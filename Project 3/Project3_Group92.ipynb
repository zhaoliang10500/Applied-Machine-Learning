{
  "nbformat": 4,
  "nbformat_minor": 0,
  "metadata": {
    "colab": {
      "name": "project3_(1).ipynb",
      "provenance": [],
      "collapsed_sections": [],
      "toc_visible": true
    },
    "kernelspec": {
      "name": "python3",
      "display_name": "Python 3"
    },
    "accelerator": "GPU"
  },
  "cells": [
    {
      "cell_type": "markdown",
      "metadata": {
        "id": "I6ONz2jeyWg4"
      },
      "source": [
        "#Project 3 Multi-label Classification of Image Data\n",
        "  Group 92"
      ]
    },
    {
      "cell_type": "markdown",
      "metadata": {
        "id": "Z0zue7oSyTGS"
      },
      "source": [
        "##Prelude\n",
        "  - Importing libraies\n",
        "  - Loading data\n",
        "  - Pre-processing data"
      ]
    },
    {
      "cell_type": "code",
      "metadata": {
        "id": "eUIpIFNfeKn-"
      },
      "source": [
        "import numpy as np\r\n",
        "import torch\r\n",
        "import math\r\n",
        "import torch.nn.functional as F\r\n",
        "import pandas as pd\r\n",
        "import h5py\r\n",
        "import matplotlib.pyplot as plt\r\n",
        "from torch import nn, optim\r\n",
        "from torch.utils.data import TensorDataset\r\n",
        "from torch.utils.data import DataLoader\r\n",
        "\r\n",
        "%matplotlib inline\r\n",
        "plt.rcParams['figure.figsize'] = (16.0, 4.0)"
      ],
      "execution_count": 1,
      "outputs": []
    },
    {
      "cell_type": "code",
      "metadata": {
        "id": "nDL5mTRz1WJf",
        "colab": {
          "base_uri": "https://localhost:8080/"
        },
        "outputId": "6096cff4-7302-4c65-c66f-4e019c982e75"
      },
      "source": [
        "# use GPU to perform main computations\n",
        "device = torch.device(\"cuda:0\" if torch.cuda.is_available() else \"cpu\")\n",
        "print (device)"
      ],
      "execution_count": 2,
      "outputs": [
        {
          "output_type": "stream",
          "text": [
            "cuda:0\n"
          ],
          "name": "stdout"
        }
      ]
    },
    {
      "cell_type": "markdown",
      "metadata": {
        "id": "ZpQK8fSNz6A_"
      },
      "source": [
        "###Help function to visualize the data "
      ]
    },
    {
      "cell_type": "code",
      "metadata": {
        "id": "zIv2ijEVz4-N"
      },
      "source": [
        "def plot_images(images, nrows, ncols, cls_pred=None):\n",
        "    \n",
        "    # Initialize figure\n",
        "    fig, axes = plt.subplots(nrows, ncols, figsize=(16, 2*nrows))\n",
        "    \n",
        "    for i, ax in enumerate(axes.flat): \n",
        "        \n",
        "      if cls_pred is not None:\n",
        "          # Pretty string with predicted number\n",
        "          pred_number = ''.join(str(x) for x in cls_pred[i] if x != 10)\n",
        "          title = \"Pred: {0}\".format(pred_number) \n",
        "          ax.set_title(title) \n",
        "            \n",
        "      ax.imshow(images[i,:,:,0])  \n",
        "      ax.set_xticks([]);\n",
        "      ax.set_yticks([])"
      ],
      "execution_count": 25,
      "outputs": []
    },
    {
      "cell_type": "markdown",
      "metadata": {
        "id": "xWEfIzc3Cc40"
      },
      "source": [
        "### Import and pre-process data\n",
        " - Display data examples\n",
        " - Convert data to tensor flow and put data into cuda device"
      ]
    },
    {
      "cell_type": "code",
      "metadata": {
        "id": "HOHKaudIFG7Q",
        "colab": {
          "base_uri": "https://localhost:8080/"
        },
        "outputId": "7747b9fc-1f16-49ad-fc29-d5435df95c76"
      },
      "source": [
        "from google.colab import drive\n",
        "drive.mount('/content/drive')"
      ],
      "execution_count": 4,
      "outputs": [
        {
          "output_type": "stream",
          "text": [
            "Mounted at /content/drive\n"
          ],
          "name": "stdout"
        }
      ]
    },
    {
      "cell_type": "code",
      "metadata": {
        "id": "j-PP12cJrW_s"
      },
      "source": [
        "filename = '/content/drive/MyDrive/MNIST_synthetic.h5'\r\n",
        "\r\n",
        "# Read dataset to numpy array from h5 file\r\n",
        "hf = h5py.File(filename, 'r')\r\n",
        "\r\n",
        "x_train = np.array(hf[\"train_dataset\"][:])\r\n",
        "y_train = np.array(hf[\"train_labels\"][:])\r\n",
        "x_test = np.array(hf[\"test_dataset\"][:])"
      ],
      "execution_count": 5,
      "outputs": []
    },
    {
      "cell_type": "code",
      "metadata": {
        "id": "tByj2n450_ys",
        "colab": {
          "base_uri": "https://localhost:8080/",
          "height": 361
        },
        "outputId": "ae880855-98fc-420f-f7fc-87a40be54897"
      },
      "source": [
        "# Plot some sample images\n",
        "plot_images(x_train, 3, 4);"
      ],
      "execution_count": 28,
      "outputs": [
        {
          "output_type": "display_data",
          "data": {
            "image/png": "[encoded data removed]",
            "text/plain": [
              "<Figure size 1152x432 with 12 Axes>"
            ]
          },
          "metadata": {
            "tags": []
          }
        }
      ]
    },
    {
      "cell_type": "code",
      "metadata": {
        "id": "zNkEEAQV1yJE"
      },
      "source": [
        "# Convert data to float32\n",
        "x_train = np.float32(np.array(hf[\"train_dataset\"][:]) )\n",
        "y_train = np.float32(np.array(hf[\"train_labels\"][:]))\n",
        "x_test = np.float32(np.array(hf[\"test_dataset\"][:]) )"
      ],
      "execution_count": 7,
      "outputs": []
    },
    {
      "cell_type": "code",
      "metadata": {
        "id": "6b2sjpzxzO4q"
      },
      "source": [
        "# Resize the dataset\n",
        "x_train = x_train.flatten().reshape(56000,1,64,64)\n",
        "x_test = x_test.flatten().reshape(14000,1,64,64)"
      ],
      "execution_count": 8,
      "outputs": []
    },
    {
      "cell_type": "code",
      "metadata": {
        "id": "s4bsJtLzzS8m"
      },
      "source": [
        "# Split the train data and validation data \n",
        "def process_data(train, label,test, percentage):\n",
        "    length = train.shape[0]\n",
        "    split = math.floor(length* percentage)\n",
        "    train_set_x = train[:split]\n",
        "    train_set_y = label[:split]\n",
        "    val_set_x = train[split:]\n",
        "    val_set_y = label[split:]\n",
        "    train_set_x=  (train_set_x - np.mean(train_set_x))/np.std(train_set_x)\n",
        "    val_set_x=  (val_set_x - np.mean(val_set_x))/np.std(val_set_x)\n",
        "    test = (test- np.mean(test))/np.std(test)\n",
        "\n",
        "    x_train, y_train, x_valid, y_valid, x_test = map(\n",
        "        torch.tensor, (train_set_x,train_set_y,val_set_x,val_set_y,test)\n",
        "        )\n",
        "    return x_train,y_train,x_valid,y_valid, x_test"
      ],
      "execution_count": 9,
      "outputs": []
    },
    {
      "cell_type": "code",
      "metadata": {
        "id": "A7VpemB6zjPF"
      },
      "source": [
        "# Declare the percentage to be trained\n",
        "train_percentage = 0.9\n",
        "x_train, y_train, x_valid, y_valid, x_test = process_data(x_train, y_train,x_test,train_percentage)\n",
        "\n",
        "x_train = x_train.float()\n",
        "x_test = x_test.float()\n",
        "y_train = F.one_hot(y_train.long(),11).float()\n",
        "y_valid = F.one_hot(y_valid.long(),11).float()"
      ],
      "execution_count": 10,
      "outputs": []
    },
    {
      "cell_type": "code",
      "metadata": {
        "id": "PKG_0UGrzmD_"
      },
      "source": [
        "# move data to GPU device\n",
        "x_train = x_train.to(device,dtype=torch.float)\n",
        "y_train = y_train.to(device,dtype=torch.float)\n",
        "x_valid = x_valid.to(device,dtype=torch.float)\n",
        "y_valid = y_valid.to(device,dtype=torch.float)\n",
        "x_test = x_test.to(device,dtype=torch.float)"
      ],
      "execution_count": 11,
      "outputs": []
    },
    {
      "cell_type": "code",
      "metadata": {
        "id": "hE1mWASszqLB"
      },
      "source": [
        "# put tensors related to train into dataset\n",
        "train_ds = TensorDataset(x_train, y_train)\n",
        "valid_ds = TensorDataset(x_valid, y_valid)\n",
        "test_ds = TensorDataset(x_test)\n",
        "\n",
        "# put the dataset into dataloader and declare the batch size\n",
        "bs = 128\n",
        "train_dl = DataLoader(train_ds, batch_size=bs)\n",
        "valid_dl = DataLoader(valid_ds, bs*2)\n",
        "test_dl = DataLoader(test_ds,bs)"
      ],
      "execution_count": 12,
      "outputs": []
    },
    {
      "cell_type": "code",
      "metadata": {
        "id": "6F5bKOWZvR8Q",
        "colab": {
          "base_uri": "https://localhost:8080/"
        },
        "outputId": "2a7a3b83-c6b0-4a3f-e124-7e8d94273c9c"
      },
      "source": [
        "# check if data are successfully put to device\r\n",
        "print(x_train.is_cuda , y_train.is_cuda , x_valid.is_cuda, y_valid.is_cuda)"
      ],
      "execution_count": 13,
      "outputs": [
        {
          "output_type": "stream",
          "text": [
            "True True True True\n"
          ],
          "name": "stdout"
        }
      ]
    },
    {
      "cell_type": "markdown",
      "metadata": {
        "id": "6MX2Bc-J3ty9"
      },
      "source": [
        "## Define CNN\n",
        " - leNet architecture"
      ]
    },
    {
      "cell_type": "code",
      "metadata": {
        "id": "XrtjUZcDsnnb"
      },
      "source": [
        "class Mnist_cnn1(nn.Module):\r\n",
        "    def __init__(self):\r\n",
        "        super().__init__()\r\n",
        "\r\n",
        "        self._hidden1 = nn.Sequential(\r\n",
        "            nn.Conv2d(in_channels=1, out_channels=32, kernel_size=5),\r\n",
        "            nn.ReLU(),\r\n",
        "        )\r\n",
        "        self._hidden2 = nn.Sequential(\r\n",
        "            nn.Conv2d(in_channels=32, out_channels=64, kernel_size=5),\r\n",
        "\r\n",
        "        )\r\n",
        "\r\n",
        "        self._hidden3 = nn.Sequential(\r\n",
        "            nn.BatchNorm2d(num_features=64),\r\n",
        "            nn.ReLU(),\r\n",
        "            nn.MaxPool2d(kernel_size=2),\r\n",
        "            nn.Dropout(0.25),\r\n",
        "            nn.Conv2d(in_channels=64, out_channels=64, kernel_size=3),\r\n",
        "            nn.ReLU()\r\n",
        "        )\r\n",
        "        self._hidden4 = nn.Sequential(\r\n",
        "            nn.Conv2d(in_channels=64, out_channels=64, kernel_size=3),\r\n",
        "            nn.BatchNorm2d(num_features=64),\r\n",
        "            nn.ReLU(),\r\n",
        "        )\r\n",
        "        self._hidden5 = nn.Sequential(\r\n",
        "            nn.BatchNorm2d(num_features=64),\r\n",
        "            nn.ReLU(),\r\n",
        "            nn.MaxPool2d(kernel_size=2),\r\n",
        "            nn.Dropout(0.25)\r\n",
        "        )\r\n",
        "      \r\n",
        "        self._hidden6 = nn.Sequential(\r\n",
        "            nn.Linear(9216, 256),\r\n",
        "        )\r\n",
        "        self._hidden7 = nn.Sequential(\r\n",
        "            nn.ReLU()\r\n",
        "        )\r\n",
        "        self._hidden8 = nn.Sequential(\r\n",
        "            nn.Linear(256,128)\r\n",
        "        )\r\n",
        "        self._hidden9 = nn.Sequential(\r\n",
        "            nn.ReLU()\r\n",
        "        )\r\n",
        "        self._hidden10 = nn.Sequential(\r\n",
        "            nn.Linear(128,84)\r\n",
        "        )\r\n",
        "        self._hidden11 = nn.Sequential(\r\n",
        "            nn.ReLU(),\r\n",
        "            nn.Dropout(0.25)\r\n",
        "        )\r\n",
        "\r\n",
        "        self.digit1 = nn.Linear(84, 11)\r\n",
        "        self.digit2 = nn.Linear(84, 11)\r\n",
        "        self.digit3 = nn.Linear(84, 11)\r\n",
        "        self.digit4 = nn.Linear(84, 11)\r\n",
        "        self.digit5 = nn.Linear(84, 11)\r\n",
        "              \r\n",
        "\r\n",
        "    def forward(self, x):\r\n",
        "        s = nn.Softmax(dim =1 )\r\n",
        "\r\n",
        "        x = self._hidden1(x)\r\n",
        "        x = self._hidden2(x)\r\n",
        "        x = self._hidden3(x)\r\n",
        "        x = self._hidden4(x)\r\n",
        "        x = self._hidden5(x)\r\n",
        "        x= x.view(-1,self.num_flat_features(x))\r\n",
        "        x = self._hidden6(x)\r\n",
        "        x = self._hidden7(x)\r\n",
        "        x = self._hidden8(x)\r\n",
        "        x = self._hidden9(x)\r\n",
        "        x = self._hidden10(x)\r\n",
        "        x = self._hidden11(x)\r\n",
        "\r\n",
        "\r\n",
        "        d1 = s(self.digit1(x))\r\n",
        "        d2 = s(self.digit2(x))\r\n",
        "        d3 = s(self.digit3(x))\r\n",
        "        d4 = s(self.digit4(x))\r\n",
        "        d5 = s(self.digit5(x))\r\n",
        "        res = torch.stack((d1,d2,d3,d4,d5))\r\n",
        "        res = torch.transpose(res,0,1)\r\n",
        "        return res\r\n",
        "\r\n",
        "\r\n",
        "    def num_flat_features(self, x):\r\n",
        "        # all dimensions except the batch dimension\r\n",
        "        size = x.size()[1:] \r\n",
        "        num_features = 1\r\n",
        "        for s in size:\r\n",
        "            num_features *= s\r\n",
        "        return num_features"
      ],
      "execution_count": 14,
      "outputs": []
    },
    {
      "cell_type": "markdown",
      "metadata": {
        "id": "knkug8YV3_Jl"
      },
      "source": [
        "Fit model"
      ]
    },
    {
      "cell_type": "code",
      "metadata": {
        "id": "StyhYCfuBeqR"
      },
      "source": [
        "def fit(model,epochs,train_dl,valid_dl,loss_func, opt):\r\n",
        "  acc_list = []\r\n",
        "  for epoch in range(epochs):\r\n",
        "    model.train()\r\n",
        "    for xb, yb in train_dl:\r\n",
        "      pred = model(xb)\r\n",
        "      loss = loss_func(pred, yb)\r\n",
        "\r\n",
        "      loss.backward()\r\n",
        "      opt.step()\r\n",
        "      opt.zero_grad()\r\n",
        "\r\n",
        "    model.eval()\r\n",
        "    with torch.no_grad():\r\n",
        "      valid_loss = 0\r\n",
        "      sum(loss_func(model(xb), yb) for xb, yb in valid_dl)\r\n",
        "      hit = 0\r\n",
        "\r\n",
        "      for xb,yb in valid_dl:\r\n",
        "        pred_val = model(xb)\r\n",
        "        valid_loss+= loss_func(pred_val, yb)\r\n",
        "        pred_val = torch.argmax(pred_val,dim = 2)\r\n",
        "        y_label = torch.argmax(yb, dim = 2)\r\n",
        "        for i in range(pred_val.shape[0]):\r\n",
        "          if torch.equal(pred_val[i], y_label[i]):\r\n",
        "            hit +=1\r\n",
        "\r\n",
        "\r\n",
        "\r\n",
        "    print(\"epoch:\", epoch, ' ; Validation loss:', valid_loss / len(valid_dl), ' ; Accuracy is ', hit/5600)\r\n",
        "    acc_list.append(hit/5600)\r\n",
        "    # Termination condition\r\n",
        "    if ((hit/5600) > 0.993):\r\n",
        "      break\r\n",
        "\r\n",
        "  torch.save(model.state_dict(),'/content/drive/MyDrive/P3_test1.csv')"
      ],
      "execution_count": 15,
      "outputs": []
    },
    {
      "cell_type": "markdown",
      "metadata": {
        "id": "rZR8XWiNGvOG"
      },
      "source": [
        "## Running model and save csv file"
      ]
    },
    {
      "cell_type": "code",
      "metadata": {
        "id": "RjE7op69RX6E",
        "colab": {
          "base_uri": "https://localhost:8080/"
        },
        "outputId": "7a93296b-d63d-41ce-8d79-ad6f66ef3cfd"
      },
      "source": [
        "model = Mnist_cnn1()\r\n",
        "para = list(model.parameters())\r\n",
        "lr = 0.01\r\n",
        "# opt = optim.Adadelta(model.parameters())\r\n",
        "opt = optim.SGD(model.parameters(), lr=lr, momentum=0.9)\r\n",
        "# opt = torch.optim.Adam(model.parameters(), weight_decay = 1e-5)\r\n",
        "epochs = 100\r\n",
        "loss_func = nn.BCELoss()\r\n",
        "model.to(device)\r\n",
        "fit(model, epochs,train_dl,valid_dl,loss_func, opt)\r\n",
        "\r\n",
        "\r\n",
        "list_pred=[]\r\n",
        "list_res = []\r\n",
        "with torch.no_grad():\r\n",
        "  for xb in test_dl:\r\n",
        "    pred_val = model(xb[0])\r\n",
        "    list_pred.append(torch.argmax(pred_val,dim = 2))\r\n",
        "        \r\n",
        "output = torch.cat(list_pred)\r\n",
        "output = output.cpu()\r\n",
        "output = output.numpy()\r\n",
        "\r\n",
        "for row in output:\r\n",
        "  res = ''\r\n",
        "  for col in row:\r\n",
        "    res += str(col)\r\n",
        "  list_res.append(res)\r\n",
        "\r\n",
        "\r\n",
        "prediction = np.array(list_res)\r\n",
        "index = np.arange(14000)\r\n",
        "final_out = np.hstack((index,prediction))\r\n",
        "\r\n",
        "final_out = pd.DataFrame(\r\n",
        "    {'Id':index,\r\n",
        "    'Label': prediction}\r\n",
        ")\r\n",
        "final_out.to_csv('/content/drive/MyDrive/output.csv', index = False)"
      ],
      "execution_count": 16,
      "outputs": [
        {
          "output_type": "stream",
          "text": [
            "epoch: 0  ; Validation loss: tensor(0.1837, device='cuda:0')  ; Accuracy is  0.03642857142857143\n",
            "epoch: 1  ; Validation loss: tensor(0.1795, device='cuda:0')  ; Accuracy is  0.046607142857142854\n",
            "epoch: 2  ; Validation loss: tensor(0.1730, device='cuda:0')  ; Accuracy is  0.08321428571428571\n",
            "epoch: 3  ; Validation loss: tensor(0.1583, device='cuda:0')  ; Accuracy is  0.1375\n",
            "epoch: 4  ; Validation loss: tensor(0.1395, device='cuda:0')  ; Accuracy is  0.22339285714285714\n",
            "epoch: 5  ; Validation loss: tensor(0.1208, device='cuda:0')  ; Accuracy is  0.28535714285714286\n",
            "epoch: 6  ; Validation loss: tensor(0.1031, device='cuda:0')  ; Accuracy is  0.36214285714285716\n",
            "epoch: 7  ; Validation loss: tensor(0.0881, device='cuda:0')  ; Accuracy is  0.43964285714285717\n",
            "epoch: 8  ; Validation loss: tensor(0.0752, device='cuda:0')  ; Accuracy is  0.5073214285714286\n",
            "epoch: 9  ; Validation loss: tensor(0.0628, device='cuda:0')  ; Accuracy is  0.5771428571428572\n",
            "epoch: 10  ; Validation loss: tensor(0.0520, device='cuda:0')  ; Accuracy is  0.6482142857142857\n",
            "epoch: 11  ; Validation loss: tensor(0.0422, device='cuda:0')  ; Accuracy is  0.7232142857142857\n",
            "epoch: 12  ; Validation loss: tensor(0.0356, device='cuda:0')  ; Accuracy is  0.7658928571428572\n",
            "epoch: 13  ; Validation loss: tensor(0.0302, device='cuda:0')  ; Accuracy is  0.8080357142857143\n",
            "epoch: 14  ; Validation loss: tensor(0.0258, device='cuda:0')  ; Accuracy is  0.8364285714285714\n",
            "epoch: 15  ; Validation loss: tensor(0.0221, device='cuda:0')  ; Accuracy is  0.8596428571428572\n",
            "epoch: 16  ; Validation loss: tensor(0.0191, device='cuda:0')  ; Accuracy is  0.8776785714285714\n",
            "epoch: 17  ; Validation loss: tensor(0.0164, device='cuda:0')  ; Accuracy is  0.8941071428571429\n",
            "epoch: 18  ; Validation loss: tensor(0.0141, device='cuda:0')  ; Accuracy is  0.9025\n",
            "epoch: 19  ; Validation loss: tensor(0.0127, device='cuda:0')  ; Accuracy is  0.9148214285714286\n",
            "epoch: 20  ; Validation loss: tensor(0.0118, device='cuda:0')  ; Accuracy is  0.9214285714285714\n",
            "epoch: 21  ; Validation loss: tensor(0.0105, device='cuda:0')  ; Accuracy is  0.9260714285714285\n",
            "epoch: 22  ; Validation loss: tensor(0.0091, device='cuda:0')  ; Accuracy is  0.9376785714285715\n",
            "epoch: 23  ; Validation loss: tensor(0.0087, device='cuda:0')  ; Accuracy is  0.9394642857142858\n",
            "epoch: 24  ; Validation loss: tensor(0.0082, device='cuda:0')  ; Accuracy is  0.9419642857142857\n",
            "epoch: 25  ; Validation loss: tensor(0.0072, device='cuda:0')  ; Accuracy is  0.9482142857142857\n",
            "epoch: 26  ; Validation loss: tensor(0.0075, device='cuda:0')  ; Accuracy is  0.9464285714285714\n",
            "epoch: 27  ; Validation loss: tensor(0.0069, device='cuda:0')  ; Accuracy is  0.94875\n",
            "epoch: 28  ; Validation loss: tensor(0.0062, device='cuda:0')  ; Accuracy is  0.9533928571428572\n",
            "epoch: 29  ; Validation loss: tensor(0.0061, device='cuda:0')  ; Accuracy is  0.9523214285714285\n",
            "epoch: 30  ; Validation loss: tensor(0.0056, device='cuda:0')  ; Accuracy is  0.9564285714285714\n",
            "epoch: 31  ; Validation loss: tensor(0.0054, device='cuda:0')  ; Accuracy is  0.9580357142857143\n",
            "epoch: 32  ; Validation loss: tensor(0.0051, device='cuda:0')  ; Accuracy is  0.9596428571428571\n",
            "epoch: 33  ; Validation loss: tensor(0.0049, device='cuda:0')  ; Accuracy is  0.9598214285714286\n",
            "epoch: 34  ; Validation loss: tensor(0.0047, device='cuda:0')  ; Accuracy is  0.9616071428571429\n",
            "epoch: 35  ; Validation loss: tensor(0.0045, device='cuda:0')  ; Accuracy is  0.9626785714285714\n",
            "epoch: 36  ; Validation loss: tensor(0.0040, device='cuda:0')  ; Accuracy is  0.9671428571428572\n",
            "epoch: 37  ; Validation loss: tensor(0.0043, device='cuda:0')  ; Accuracy is  0.9642857142857143\n",
            "epoch: 38  ; Validation loss: tensor(0.0040, device='cuda:0')  ; Accuracy is  0.9664285714285714\n",
            "epoch: 39  ; Validation loss: tensor(0.0041, device='cuda:0')  ; Accuracy is  0.9648214285714286\n",
            "epoch: 40  ; Validation loss: tensor(0.0036, device='cuda:0')  ; Accuracy is  0.9692857142857143\n",
            "epoch: 41  ; Validation loss: tensor(0.0037, device='cuda:0')  ; Accuracy is  0.96875\n",
            "epoch: 42  ; Validation loss: tensor(0.0037, device='cuda:0')  ; Accuracy is  0.9701785714285714\n",
            "epoch: 43  ; Validation loss: tensor(0.0035, device='cuda:0')  ; Accuracy is  0.97125\n",
            "epoch: 44  ; Validation loss: tensor(0.0039, device='cuda:0')  ; Accuracy is  0.9664285714285714\n",
            "epoch: 45  ; Validation loss: tensor(0.0032, device='cuda:0')  ; Accuracy is  0.9710714285714286\n",
            "epoch: 46  ; Validation loss: tensor(0.0031, device='cuda:0')  ; Accuracy is  0.9741071428571428\n",
            "epoch: 47  ; Validation loss: tensor(0.0031, device='cuda:0')  ; Accuracy is  0.9741071428571428\n",
            "epoch: 48  ; Validation loss: tensor(0.0030, device='cuda:0')  ; Accuracy is  0.9758928571428571\n",
            "epoch: 49  ; Validation loss: tensor(0.0030, device='cuda:0')  ; Accuracy is  0.9733928571428572\n",
            "epoch: 50  ; Validation loss: tensor(0.0028, device='cuda:0')  ; Accuracy is  0.97625\n",
            "epoch: 51  ; Validation loss: tensor(0.0026, device='cuda:0')  ; Accuracy is  0.9780357142857142\n",
            "epoch: 52  ; Validation loss: tensor(0.0030, device='cuda:0')  ; Accuracy is  0.9739285714285715\n",
            "epoch: 53  ; Validation loss: tensor(0.0026, device='cuda:0')  ; Accuracy is  0.9775\n",
            "epoch: 54  ; Validation loss: tensor(0.0026, device='cuda:0')  ; Accuracy is  0.98\n",
            "epoch: 55  ; Validation loss: tensor(0.0025, device='cuda:0')  ; Accuracy is  0.9778571428571429\n",
            "epoch: 56  ; Validation loss: tensor(0.0023, device='cuda:0')  ; Accuracy is  0.9792857142857143\n",
            "epoch: 57  ; Validation loss: tensor(0.0024, device='cuda:0')  ; Accuracy is  0.9805357142857143\n",
            "epoch: 58  ; Validation loss: tensor(0.0024, device='cuda:0')  ; Accuracy is  0.9782142857142857\n",
            "epoch: 59  ; Validation loss: tensor(0.0023, device='cuda:0')  ; Accuracy is  0.9796428571428571\n",
            "epoch: 60  ; Validation loss: tensor(0.0025, device='cuda:0')  ; Accuracy is  0.9780357142857142\n",
            "epoch: 61  ; Validation loss: tensor(0.0022, device='cuda:0')  ; Accuracy is  0.9810714285714286\n",
            "epoch: 62  ; Validation loss: tensor(0.0021, device='cuda:0')  ; Accuracy is  0.9814285714285714\n",
            "epoch: 63  ; Validation loss: tensor(0.0022, device='cuda:0')  ; Accuracy is  0.9801785714285715\n",
            "epoch: 64  ; Validation loss: tensor(0.0022, device='cuda:0')  ; Accuracy is  0.9801785714285715\n",
            "epoch: 65  ; Validation loss: tensor(0.0020, device='cuda:0')  ; Accuracy is  0.9832142857142857\n",
            "epoch: 66  ; Validation loss: tensor(0.0019, device='cuda:0')  ; Accuracy is  0.9819642857142857\n",
            "epoch: 67  ; Validation loss: tensor(0.0020, device='cuda:0')  ; Accuracy is  0.9816071428571429\n",
            "epoch: 68  ; Validation loss: tensor(0.0024, device='cuda:0')  ; Accuracy is  0.9782142857142857\n",
            "epoch: 69  ; Validation loss: tensor(0.0019, device='cuda:0')  ; Accuracy is  0.9825\n",
            "epoch: 70  ; Validation loss: tensor(0.0017, device='cuda:0')  ; Accuracy is  0.98375\n",
            "epoch: 71  ; Validation loss: tensor(0.0018, device='cuda:0')  ; Accuracy is  0.9833928571428572\n",
            "epoch: 72  ; Validation loss: tensor(0.0017, device='cuda:0')  ; Accuracy is  0.9842857142857143\n",
            "epoch: 73  ; Validation loss: tensor(0.0017, device='cuda:0')  ; Accuracy is  0.9835714285714285\n",
            "epoch: 74  ; Validation loss: tensor(0.0018, device='cuda:0')  ; Accuracy is  0.9839285714285714\n",
            "epoch: 75  ; Validation loss: tensor(0.0017, device='cuda:0')  ; Accuracy is  0.9858928571428571\n",
            "epoch: 76  ; Validation loss: tensor(0.0017, device='cuda:0')  ; Accuracy is  0.9841071428571428\n",
            "epoch: 77  ; Validation loss: tensor(0.0015, device='cuda:0')  ; Accuracy is  0.9866071428571429\n",
            "epoch: 78  ; Validation loss: tensor(0.0015, device='cuda:0')  ; Accuracy is  0.9853571428571428\n",
            "epoch: 79  ; Validation loss: tensor(0.0015, device='cuda:0')  ; Accuracy is  0.9848214285714286\n",
            "epoch: 80  ; Validation loss: tensor(0.0016, device='cuda:0')  ; Accuracy is  0.9869642857142857\n",
            "epoch: 81  ; Validation loss: tensor(0.0014, device='cuda:0')  ; Accuracy is  0.985\n",
            "epoch: 82  ; Validation loss: tensor(0.0015, device='cuda:0')  ; Accuracy is  0.9867857142857143\n",
            "epoch: 83  ; Validation loss: tensor(0.0014, device='cuda:0')  ; Accuracy is  0.9876785714285714\n",
            "epoch: 84  ; Validation loss: tensor(0.0015, device='cuda:0')  ; Accuracy is  0.9857142857142858\n",
            "epoch: 85  ; Validation loss: tensor(0.0014, device='cuda:0')  ; Accuracy is  0.9878571428571429\n",
            "epoch: 86  ; Validation loss: tensor(0.0017, device='cuda:0')  ; Accuracy is  0.9846428571428572\n",
            "epoch: 87  ; Validation loss: tensor(0.0015, device='cuda:0')  ; Accuracy is  0.9875\n",
            "epoch: 88  ; Validation loss: tensor(0.0015, device='cuda:0')  ; Accuracy is  0.9869642857142857\n",
            "epoch: 89  ; Validation loss: tensor(0.0012, device='cuda:0')  ; Accuracy is  0.98875\n",
            "epoch: 90  ; Validation loss: tensor(0.0014, device='cuda:0')  ; Accuracy is  0.9889285714285714\n",
            "epoch: 91  ; Validation loss: tensor(0.0014, device='cuda:0')  ; Accuracy is  0.9878571428571429\n",
            "epoch: 92  ; Validation loss: tensor(0.0014, device='cuda:0')  ; Accuracy is  0.9878571428571429\n",
            "epoch: 93  ; Validation loss: tensor(0.0012, device='cuda:0')  ; Accuracy is  0.9889285714285714\n",
            "epoch: 94  ; Validation loss: tensor(0.0012, device='cuda:0')  ; Accuracy is  0.9898214285714285\n",
            "epoch: 95  ; Validation loss: tensor(0.0013, device='cuda:0')  ; Accuracy is  0.9869642857142857\n",
            "epoch: 96  ; Validation loss: tensor(0.0013, device='cuda:0')  ; Accuracy is  0.9873214285714286\n",
            "epoch: 97  ; Validation loss: tensor(0.0012, device='cuda:0')  ; Accuracy is  0.9901785714285715\n",
            "epoch: 98  ; Validation loss: tensor(0.0012, device='cuda:0')  ; Accuracy is  0.9903571428571428\n",
            "epoch: 99  ; Validation loss: tensor(0.0011, device='cuda:0')  ; Accuracy is  0.9908928571428571\n"
          ],
          "name": "stdout"
        }
      ]
    },
    {
      "cell_type": "markdown",
      "metadata": {
        "id": "MSyD67ibG1Wf"
      },
      "source": [
        "##Visualizing predicted data"
      ]
    },
    {
      "cell_type": "code",
      "metadata": {
        "id": "LXnXTD2k5qgD",
        "colab": {
          "base_uri": "https://localhost:8080/",
          "height": 377
        },
        "outputId": "515e4560-ce04-4ce7-e3b1-017f470b9afd"
      },
      "source": [
        "vi_test = np.array(hf[\"test_dataset\"][:])\n",
        "plot_images(vi_test, 3, 5, prediction)"
      ],
      "execution_count": 26,
      "outputs": [
        {
          "output_type": "display_data",
          "data": {
            "image/png": "[encoded data removed]",
            "text/plain": [
              "<Figure size 1152x432 with 15 Axes>"
            ]
          },
          "metadata": {
            "tags": []
          }
        }
      ]
    }
  ]
}