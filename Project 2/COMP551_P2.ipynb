{
  "nbformat": 4,
  "nbformat_minor": 0,
  "metadata": {
    "colab": {
      "name": "COMP551_P2.ipynb",
      "provenance": [],
      "collapsed_sections": [],
      "toc_visible": true
    },
    "kernelspec": {
      "display_name": "Python 3",
      "name": "python3"
    }
  },
  "cells": [
    {
      "cell_type": "code",
      "metadata": {
        "id": "ENvNAHWXp70w"
      },
      "source": [
        "import numpy as np\n",
        "import math\n",
        "import random\n",
        "from operator import itemgetter\n",
        "from sklearn.datasets import load_iris\n",
        "np.random.seed(1234)"
      ],
      "execution_count": 190,
      "outputs": []
    },
    {
      "cell_type": "markdown",
      "metadata": {
        "id": "6xqw9p2GuUym"
      },
      "source": [
        "# Data Set"
      ]
    },
    {
      "cell_type": "code",
      "metadata": {
        "colab": {
          "base_uri": "https://localhost:8080/"
        },
        "id": "x96ziuzQuUG5",
        "outputId": "7f1a4763-be27-4576-c257-027ea1228241"
      },
      "source": [
        "# 1. digits\n",
        "\n",
        "from sklearn import datasets\n",
        "dataset = datasets.load_digits()\n",
        "#Classification for two classes and two features\n",
        "x1, y1 = dataset['data'], dataset['target']\n",
        "\n",
        "print(\"\\nDigits:\")\n",
        "print(f'x1: {x1.shape}\\ny1:{y1.shape}')\n",
        "\n",
        "#------------------------------------------------\n",
        "\n",
        "# 2. optdigits\n",
        "\n",
        "from sklearn import datasets\n",
        "import numpy as np\n",
        "from sklearn.datasets import fetch_openml\n",
        "dataset = fetch_openml(name='optdigits',version=1)\n",
        "#Classification for two classes and two features\n",
        "x2, y2 = dataset['data'], dataset['target']\n",
        "#x2 = x2.astype(int)\n",
        "y2 = y2.astype(int)\n",
        "print(\"\\noptdigits:\")\n",
        "print(f'x2: {x2.shape}\\ny2:{y2.shape}')\n",
        "\n",
        "#------------------------------------------------\n",
        "\n",
        "# 3. waveform-5000\n",
        "\n",
        "from sklearn import datasets\n",
        "import numpy as np\n",
        "from sklearn.datasets import fetch_openml\n",
        "dataset = fetch_openml(name='waveform-5000',version=1)\n",
        "#Classification for two classes and two features\n",
        "x3, y3 = dataset['data'], dataset['target']\n",
        "#x3 = x3.astype(int)\n",
        "y3 = y3.astype(int)\n",
        "print(\"\\nwaveform-5000:\")\n",
        "print(f'x3: {x3.shape}\\ny2:{y3.shape}')"
      ],
      "execution_count": 191,
      "outputs": [
        {
          "output_type": "stream",
          "text": [
            "\n",
            "Digits:\n",
            "x1: (1797, 64)\n",
            "y1:(1797,)\n",
            "\n",
            "optdigits:\n",
            "x2: (5620, 64)\n",
            "y2:(5620,)\n",
            "\n",
            "waveform-5000:\n",
            "x3: (5000, 40)\n",
            "y2:(5000,)\n"
          ],
          "name": "stdout"
        }
      ]
    },
    {
      "cell_type": "markdown",
      "metadata": {
        "id": "1FuJQAlZozSq"
      },
      "source": [
        "# 1 Softmax Regression"
      ]
    },
    {
      "cell_type": "code",
      "metadata": {
        "id": "UHsFsyEt-RkK"
      },
      "source": [
        "def one_hot_coding(y):\n",
        "\n",
        "        #Number of different labels\n",
        "        num_classes = np.max(y)+1\n",
        "        #Number of data points\n",
        "        num_instances = y.shape[0]\n",
        "\n",
        "        indicator = np.zeros([num_instances,num_classes])\n",
        "\n",
        "        for i in range(num_instances):\n",
        "\n",
        "            label = y[i]\n",
        "            #print(label)\n",
        "            indicator[i,label] = 1\n",
        "\n",
        "        return indicator "
      ],
      "execution_count": 192,
      "outputs": []
    },
    {
      "cell_type": "markdown",
      "metadata": {
        "id": "461KpzVeYLDd"
      },
      "source": [
        "## 1.1 Optimizer"
      ]
    },
    {
      "cell_type": "code",
      "metadata": {
        "id": "b2PbMDkx-VyR"
      },
      "source": [
        "class Moment_Grad2:\n",
        "    \n",
        "    def __init__(\n",
        "        self,\n",
        "        learning_rate=0.01,\n",
        "        momentum=0.9,\n",
        "        max_iters=2000,\n",
        "        batch_size=20,\n",
        "        T=20, # if the validation accuracy doesn't change in T steps it terminates\n",
        "        reg_strength=0,\n",
        "        history_step=20,\n",
        "    ):\n",
        "        self.learning_rate = learning_rate\n",
        "        self.max_iters = max_iters\n",
        "        self.batch_size = batch_size\n",
        "        self.momentum = momentum\n",
        "        self.T = T\n",
        "        self.history = {\"tr_accuracy\": [], \"val_accuracy\": []} \n",
        "        self.print_w = False\n",
        "\n",
        "    #Randomly select two batchs of data with desired size\n",
        "    def batch(self,x,y,size):\n",
        "\n",
        "        #With no seed\n",
        "        permute = np.random.permutation(x.shape[0])\n",
        "\n",
        "        x = x[permute][:size]\n",
        "        y = y[permute][:size]\n",
        "        \n",
        "        return x,y\n",
        "    \n",
        "    def softmax(self,X):\n",
        "      \n",
        "        X_exp = np.exp(X-X.max())\n",
        "        partition = X_exp.sum( 1 , keepdims = True )\n",
        "        return ( X_exp / partition )  # The broadcasting mechanism is applied here\n",
        "\n",
        "  \n",
        "    def gradient( self,x, y, w ):# define the gradient function\n",
        "            \n",
        "            yh =  x @ w #N*C\n",
        "            N, D = x.shape \n",
        "            grad = (x.T@(y-yh))/N\n",
        "            return grad # D*C \n",
        "\n",
        "    def acc(self,x,y,w):\n",
        "        \n",
        "        predict = self.softmax(x@w)\n",
        "        predict_class = np.argmax(predict, axis=1)\n",
        "        num_true = np.count_nonzero(predict_class == y)\n",
        "        return num_true / y.shape[0]\n",
        "        \n",
        "    def run(self, gradient_fn, batch_size, x_tr, y_tr, x_val, y_val):\n",
        "        \n",
        "        batch_x,batch_y = self.batch(x_tr,y_tr,batch_size)\n",
        "        x = x_tr\n",
        "        y = y_tr\n",
        "\n",
        "        N,D = x_tr.shape\n",
        "        C = y_tr.max() + 1 # Number of classes\n",
        "\n",
        "        indicator = one_hot_coding(batch_y)# N*C\n",
        "\n",
        "        self.history[\"val_accuracy\"] = []\n",
        "        self.history[\"tr_accuracy\"] = []\n",
        "\n",
        "        #np.random.seed(23)\n",
        "        w = np.zeros([D, C])\n",
        "        best_w = w\n",
        "\n",
        "        accu = -np.inf\n",
        "        counter = 0\n",
        "        t = 0\n",
        "        \n",
        "        # MOMENTUM\n",
        "        momentum = self.momentum\n",
        "        \n",
        "        grad = self.gradient( batch_x , indicator , w )\n",
        "        \n",
        "        delta_w = ( 1-momentum ) * grad\n",
        "\n",
        "        for iteration in range(self.max_iters):\n",
        "          \n",
        "            #Gradient\n",
        "            grad = self.gradient( batch_x , indicator , w ) #D*C\n",
        "            \n",
        "            delta_w = momentum * delta_w - (1-momentum) * grad\n",
        "            \n",
        "            w = w - self.learning_rate * delta_w\n",
        "            \n",
        "            #Check if the validation error is decresing or not\n",
        "            #Same as checking whether the validation accuracy is increasing or not\n",
        "            if accu < self.acc(x_val,y_val,w):\n",
        "                accu = self.acc(x_val,y_val,w)\n",
        "                best_w = w\n",
        "            else:\n",
        "                counter+=1\n",
        "            t=t+1\n",
        "\n",
        "            acc_tr = self.acc(x_tr,y_tr,w)\n",
        "\n",
        "            #Track the training and validation accuracy in each iteration\n",
        "            self.history[\"val_accuracy\"].append(accu)\n",
        "            self.history[\"tr_accuracy\"].append(acc_tr)\n",
        "                \n",
        "            if counter > self.T:\n",
        "                break\n",
        "        \n",
        "        #Print the result\n",
        "        if self.print_w :\n",
        "          print(best_w)\n",
        "          print(f'Accuracy for the validation set with optimal w: {accu}')\n",
        "          print(f'Number of iterations: {t}')\n",
        "        \n",
        "        return best_w#D*C"
      ],
      "execution_count": 193,
      "outputs": []
    },
    {
      "cell_type": "markdown",
      "metadata": {
        "id": "DZZ0zgyoYR3A"
      },
      "source": [
        "## 1.2 Model"
      ]
    },
    {
      "cell_type": "code",
      "metadata": {
        "id": "7SR_WzmD-btf"
      },
      "source": [
        "class SoftmaxRegression2:\n",
        "    \n",
        "    def __init__(self, add_bias=True):\n",
        "        self.add_bias = add_bias \n",
        "        \n",
        "    #From a 1d-array of labels to an indicator matrix, \n",
        "    #where each row of the matrix is made of a one-hot vector\n",
        "    #We assume that each label in y is represented by a non-negative integer\n",
        "    def one_hot_coding(self,y):\n",
        "\n",
        "        #Number of different labels\n",
        "        num_classes = np.max(y)+1\n",
        "        #Number of data points\n",
        "        num_instances = y.shape[0]\n",
        "\n",
        "        indicator = np.zeros([num_instances,num_classes],dtype=np.float128)\n",
        "\n",
        "        for i in range(num_instances):\n",
        "\n",
        "            label = y[i]\n",
        "            #print(label)\n",
        "            indicator[i,label] = 1\n",
        "\n",
        "        return indicator \n",
        "    \n",
        "    # x: N x D\n",
        "    # y: N x 1\n",
        "    #model.fit(x_train , y_train ,temp_batch_size, temp_optimizer)\n",
        "    def fit(self, x,  y, batch_size, optimizer):\n",
        "        \n",
        "        if self.add_bias:\n",
        "            N = x.shape[0]\n",
        "            x = np.column_stack([x,np.ones(N)])\n",
        "        \n",
        "        val_size = x.shape[0]//10\n",
        "        x_tr = x[val_size:]; y_tr = y[val_size:]\n",
        "        x_val = x[:val_size]; y_val = y[:val_size]\n",
        "        \n",
        "        if x.ndim == 1:\n",
        "            x = x[:,None]\n",
        "        \n",
        "        def gradient( x, y, w ):# define the gradient function\n",
        "            \n",
        "            yh =  x @ w #N*C\n",
        "            N, D = x.shape \n",
        "            grad = (x.T@(y-yh))/N\n",
        "            return grad # D*C\n",
        "\n",
        "        w = optimizer.run(gradient, batch_size, x_tr, y_tr, x_val, y_val)\n",
        "        \n",
        "        self.w = w\n",
        "        return self\n",
        "    \n",
        "    def softmax(self,X):\n",
        "      \n",
        "      X_exp = np.exp(X-X.max())\n",
        "\n",
        "      if X.ndim == 1:\n",
        "        partition = X_exp.sum()\n",
        "      else:\n",
        "        partition = X_exp.sum( 1 , keepdims = True )\n",
        "       \n",
        "      return (X_exp / partition)  # The broadcasting mechanism is applied here\n",
        "\n",
        "    #Cost function: gives back the mean cost (i.e. cost per data point)\n",
        "    def softmax_cost(self,x_test,y_test):\n",
        "        N,D = x_test.shape\n",
        "        if self.add_bias:\n",
        "            x = np.column_stack( [x_test,np.ones(N)])\n",
        "        z = x@self.w      # N*C : prediction for the indicator matrix\n",
        "        indicator = self.one_hot_coding(y_test) # N*C\n",
        "        t = 0\n",
        "        for i in range(N):\n",
        "            t += np.dot(indicator[i],z[i]) - np.log1p(np.exp(z[i]).sum()) \n",
        "        return -t/N #Return the mean cost\n",
        "\n",
        "    #Accuracy: Gives back the accuracy (in decimal format) of the model fitting\n",
        "    def accuracy(self,x_test,y_test):\n",
        "\n",
        "        predict = self.predict(x_test) #N*C\n",
        "        if predict.ndim ==1:\n",
        "            predict_class = np.argmax(predict)\n",
        "        else:\n",
        "            predict_class = np.argmax(predict, axis=1)\n",
        "        num_true = np.count_nonzero(predict_class == y_test)\n",
        "        return num_true / y_test.shape[0]\n",
        "\n",
        "\n",
        "    # Gives back a N*C matrix, with ij-th element being the probability of i-th\n",
        "    # data being classied as label j\n",
        "    def predict(self, x):\n",
        "\n",
        "        N = x.shape[0]\n",
        "\n",
        "        if self.add_bias:\n",
        "            x = np.column_stack([x,np.ones(N)])\n",
        "                \n",
        "        yh = x@self.w # yh: N*C\n",
        "        \n",
        "        yh = self.softmax(yh)\n",
        "         \n",
        "        return yh"
      ],
      "execution_count": 194,
      "outputs": []
    },
    {
      "cell_type": "markdown",
      "metadata": {
        "id": "qH1ALGaL_OI7"
      },
      "source": [
        "## Model and optimizer with usual termination condition"
      ]
    },
    {
      "cell_type": "code",
      "metadata": {
        "id": "1Hh4Oo2wqnIi"
      },
      "source": [
        "class Moment_Grad:\n",
        "    \n",
        "    #Commonlly the hyper-parameter momentun beta is > 0.9\n",
        "    def __init__(self, learning_rate=.001, momentum = 0.9, max_iters=1e4, epsilon=1e-8, record_history=False):\n",
        "        \n",
        "        #Hyper_parameters\n",
        "        self.learning_rate = learning_rate\n",
        "        self.momentum = momentum\n",
        "        \n",
        "        #Termination conditions\n",
        "        self.max_iters = max_iters\n",
        "        self.epsilon = epsilon\n",
        "        \n",
        "        #History record\n",
        "        self.record_history = record_history\n",
        "        if record_history:\n",
        "            self.w_history = []                 #to store the weight history for visualization\n",
        "\n",
        "        \n",
        "    #Randomly select two batchs of data with desired size\n",
        "    def batch(self,x,y,size):\n",
        "\n",
        "        #With no seed\n",
        "        permute = np.random.permutation(x.shape[0])\n",
        "\n",
        "        #With seed\n",
        "        #permute=np.random.RandomState(seed=42).permutation(x.shape[0])\n",
        "\n",
        "        x = x[permute][:size]\n",
        "        y = y[permute][:size]\n",
        "        return x,y\n",
        "    \n",
        "    def run(self, gradient_fn, x, y, batch_size, w):\n",
        "        \n",
        "        batch_x,batch_y = self.batch(x,y,batch_size)\n",
        "        \n",
        "        t = 1 #counter\n",
        "        grad = gradient_fn(batch_x, batch_y, w) #grad at T=1\n",
        "        \n",
        "        #The initial delta_w at T = 1\n",
        "        delta_w = (1-self.momentum)*grad\n",
        "        \n",
        "        #Termination conditions\n",
        "        while np.linalg.norm(grad) > self.epsilon and t < self.max_iters:\n",
        "            \n",
        "            # w at T = t+1\n",
        "            w = w - self.learning_rate * delta_w         # weight update step\n",
        "            \n",
        "            grad = gradient_fn(batch_x, batch_y, w)       # compute the gradient with present weight\n",
        "            \n",
        "            #delta_w at T = t+1\n",
        "            delta_w = self.momentum*delta_w + (1-self.momentum)*grad\n",
        "            \n",
        "            if self.record_history:\n",
        "                self.w_history.append(w)\n",
        "            t += 1  \n",
        "                     \n",
        "        return w"
      ],
      "execution_count": 195,
      "outputs": []
    },
    {
      "cell_type": "code",
      "metadata": {
        "id": "49y9ASFxqnud"
      },
      "source": [
        "class SoftmaxRegression:\n",
        "    \n",
        "    def __init__(self, add_bias=True):\n",
        "        self.add_bias = add_bias \n",
        "        \n",
        "    #From a 1d-array of labels to an indicator matrix, \n",
        "    #where each row of the matrix is made of a one-hot vector\n",
        "    #We assume that each label in y is represented by a non-negative integer\n",
        "    def one_hot_coding(self,y):\n",
        "\n",
        "        #Number of different labels\n",
        "        num_classes = np.max(y)+1\n",
        "        #Number of data points\n",
        "        num_instances = y.shape[0]\n",
        "\n",
        "        indicator = np.zeros([num_instances,num_classes])\n",
        "\n",
        "        for i in range(num_instances):\n",
        "\n",
        "            label = y[i]\n",
        "            #print(label)\n",
        "            indicator[i,label] = 1\n",
        "\n",
        "        return indicator \n",
        "    \n",
        "    # x: N x D\n",
        "    # y: N x 1\n",
        "    def fit(self, x,  y, batch_size, optimizer):\n",
        "        \n",
        "        if x.ndim == 1:\n",
        "            x = x[:, None]\n",
        "            \n",
        "        if self.add_bias:\n",
        "            N = x.shape[0]\n",
        "            x = np.column_stack([x,np.ones(N)])\n",
        "        \n",
        "        # N: num of instances\n",
        "        # D: num of features\n",
        "        N,D = x.shape\n",
        "        num_classes = np.max(y)+1\n",
        "        \n",
        "        # indicator: N * C\n",
        "        indicator_matrix = self.one_hot_coding( y )\n",
        "        C = indicator_matrix.shape[1]\n",
        "        \n",
        "        def gradient(x, y, w):                          # define the gradient function\n",
        "            yh = (x @ w)\n",
        "            N, D = x.shape\n",
        "            grad = np.dot(yh-y, x)/N\n",
        "            return grad\n",
        "        \n",
        "        w0 = np.zeros([D,C]).T                              # initialize the weights to 0  \n",
        "        for i in range(C):               \n",
        "            w0[i] = optimizer.run(gradient, x, indicator_matrix.T[i],batch_size, w0[i])    # run the optimizer to get the optimal weights\n",
        "        \n",
        "        self.w = w0.T # w: D*C\n",
        "        \n",
        "        return self\n",
        "    \n",
        "    def softmax(self,X):\n",
        "\n",
        "      X_exp = np.exp(X-X.max())\n",
        "     \n",
        "      if X.ndim == 1:\n",
        "        partition = X_exp.sum()\n",
        "      else:\n",
        "        partition = X_exp.sum( 1, keepdims = True )\n",
        "       \n",
        "      return X_exp / partition  # The broadcasting mechanism is applied here\n",
        "\n",
        "    \n",
        "    #Cost function: gives back the mean cost (i.e. cost per data point)\n",
        "    def softmax_cost(self,x_test,y_test):\n",
        "        N,D = x_test.shape\n",
        "        if self.add_bias:\n",
        "            x = np.column_stack([x_test,np.ones(N)])\n",
        "        z = x@self.w      # N*C : prediction for the indicator matrix\n",
        "        indicator = self.one_hot_coding(y_test) # N*C\n",
        "        t = 0\n",
        "        for i in range(N):\n",
        "            t += np.dot(indicator[i],z[i]) - np.log1p(np.exp(z[i]).sum()) \n",
        "        return -t/N #Return the mean cost\n",
        "\n",
        "    #Accuracy: Gives back the accuracy (in decimal format) of the model fitting\n",
        "    def accuracy(self,x_test,y_test):\n",
        "\n",
        "        predict = self.predict(x_test) #N*C\n",
        "        if predict.ndim ==1:\n",
        "          predict_class = np.argmax(predict)\n",
        "        else:\n",
        "           predict_class = np.argmax(predict, axis=1)\n",
        "        num_true = np.count_nonzero(predict_class == y_test)\n",
        "        return num_true / y_test.shape[0]\n",
        "\n",
        "\n",
        "    # Gives back a N*C matrix, with ij-th element being the probability of i-th\n",
        "    # data being classied as label j\n",
        "    def predict(self, x):\n",
        "\n",
        "        N = x.shape[0]\n",
        "\n",
        "        if self.add_bias:\n",
        "            x = np.column_stack([x,np.ones(N)])\n",
        "                \n",
        "        yh = x@self.w # yh: N*C\n",
        "        \n",
        "        yh = self.softmax(yh)\n",
        "         \n",
        "        return yh"
      ],
      "execution_count": 196,
      "outputs": []
    },
    {
      "cell_type": "markdown",
      "metadata": {
        "id": "BYFkilRcq24j"
      },
      "source": [
        "##1.3 Testing for the above model (not required):"
      ]
    },
    {
      "cell_type": "code",
      "metadata": {
        "colab": {
          "base_uri": "https://localhost:8080/"
        },
        "id": "y0WLDymlYzjI",
        "outputId": "8e1801c5-d4be-4333-8a4f-3f4ca2638eff"
      },
      "source": [
        "from sklearn import datasets\n",
        "import numpy as np\n",
        "dataset = datasets.load_digits()\n",
        "#Classification for two classes and two features\n",
        "x, y = dataset['data'], dataset['target']\n",
        "x = x3;y = y3\n",
        "\n",
        "np.seterr(divide='ignore', invalid='ignore')\n",
        "\n",
        "print(f'x: {x.shape}')\n",
        "print(f'y: {y.shape}\\n')\n",
        "\n",
        "#Testing for the model...\n",
        "total_size = 5000\n",
        "train_size = 4000\n",
        "test_size = total_size-train_size\n",
        "\n",
        "x = x[:total_size]; y = y[:total_size]\n",
        "x_train = x[:train_size]; x_test = x[train_size:]\n",
        "y_train = y[:train_size]; y_test = y[train_size:]\n",
        "\n",
        "print(f'Train size: {train_size}\\nTest size: {test_size}\\n')\n",
        "\n",
        "model = SoftmaxRegression2()\n",
        "optimizer = Moment_Grad2()\n",
        "\n",
        "batch_size = 200\n",
        "#fit(x,y , batch_size, optimizer)\n",
        "model.fit(x_train , y_train ,batch_size, optimizer)\n",
        "\n",
        "print(f'Batch size: {batch_size}\\n')\n",
        "#print(f'Mean cost: {model.softmax_cost(x_test,y_test)}\\n') #Cost per data point\n",
        "print(f'Accuracy: {model.accuracy(x_test,y_test)}')\n"
      ],
      "execution_count": 197,
      "outputs": [
        {
          "output_type": "stream",
          "text": [
            "x: (5000, 40)\n",
            "y: (5000,)\n",
            "\n",
            "Train size: 4000\n",
            "Test size: 1000\n",
            "\n",
            "Batch size: 200\n",
            "\n",
            "Accuracy: 0.859\n"
          ],
          "name": "stdout"
        }
      ]
    },
    {
      "cell_type": "code",
      "metadata": {
        "id": "AQIMcTgZ0u_k"
      },
      "source": [
        ""
      ],
      "execution_count": 197,
      "outputs": []
    },
    {
      "cell_type": "markdown",
      "metadata": {
        "id": "wPwOlFdUtlSl"
      },
      "source": [
        "# 2 Required Analysis"
      ]
    },
    {
      "cell_type": "markdown",
      "metadata": {
        "id": "TlTXkeXmtqDj"
      },
      "source": [
        "## 2.1 Hyper_parameter of the optimization procedure"
      ]
    },
    {
      "cell_type": "markdown",
      "metadata": {
        "id": "QfrlT4lXhUXl"
      },
      "source": [
        "### Grid Search"
      ]
    },
    {
      "cell_type": "markdown",
      "metadata": {
        "id": "h1SheN-U0nS3"
      },
      "source": [
        "#### Dataset A"
      ]
    },
    {
      "cell_type": "code",
      "metadata": {
        "colab": {
          "base_uri": "https://localhost:8080/"
        },
        "id": "kDYL5_sUTHPX",
        "outputId": "efb02e50-c9c1-4034-923b-2dbebfa16693"
      },
      "source": [
        "from sklearn import datasets\n",
        "import numpy as np\n",
        "dataset = datasets.load_digits()\n",
        "#Classification for two classes and two features\n",
        "x, y = dataset['data'], dataset['target']\n",
        "\n",
        "print(f'x: {x.shape}')\n",
        "print(f'y: {y.shape}\\n')\n",
        "\n",
        "#Testing for the model...\n",
        "total_size = x.shape[0]\n",
        "train_size = x.shape[0]-x.shape[0]//10\n",
        "test_size = total_size-train_size\n",
        "\n",
        "x = x[:total_size]; y = y[:total_size]\n",
        "x_train = x[:train_size]; x_test = x[train_size:]\n",
        "y_train = y[:train_size]; y_test = y[train_size:]\n",
        "\n",
        "print(f'Train size: {train_size}\\nTest size: {test_size}\\n')\n",
        "\n",
        "batch_size = [50,60,70,80,90,100,110,120]\n",
        "learning_rate = [0.001,0.002,0.003,0.004, 0.005,0.006,0.007,0.008, 0.009]\n",
        "momentum = [0.9, 0.91, 0.92, 0.93, 0.94,0.95, 0.96, 0.97, 0.98, 0.99]\n",
        "final_hyperparameters_a = [0,0,0,0]\n",
        "temp_accuracy = 0\n",
        "\n",
        "model = SoftmaxRegression()\n",
        "for i in range(5):\n",
        "  for j in range(5):\n",
        "    for k in range(5):\n",
        "      temp_optimizer = Moment_Grad(learning_rate[j],momentum[k])\n",
        "      temp_batch_size = batch_size[i]\n",
        "      model.fit(x_train , y_train ,temp_batch_size, temp_optimizer)\n",
        "      model.accuracy(x_test,y_test)\n",
        "      # print(f'learning_rate: {learning_rate[j]}')\n",
        "      # print(f'momentum: {momentum[k]}')\n",
        "      # print(f'Batch size: {temp_batch_size}')\n",
        "      # print(f'Accuracy: {model.accuracy(x_test,y_test)}')\n",
        "      if model.accuracy(x_test,y_test) > temp_accuracy:\n",
        "        final_hyperparameters_a[0] = temp_batch_size\n",
        "        final_hyperparameters_a[1] = learning_rate[j]\n",
        "        final_hyperparameters_a[2] = momentum[k]\n",
        "        final_hyperparameters_a[3] = model.accuracy(x_test,y_test)\n",
        "        temp_accuracy = model.accuracy(x_test,y_test)\n",
        "\n",
        "print(final_hyperparameters_a)"
      ],
      "execution_count": 161,
      "outputs": [
        {
          "output_type": "stream",
          "text": [
            "x: (1797, 64)\n",
            "y: (1797,)\n",
            "\n",
            "Train size: 1618\n",
            "Test size: 179\n",
            "\n",
            "[90, 0.003, 0.92, 0.8044692737430168]\n"
          ],
          "name": "stdout"
        }
      ]
    },
    {
      "cell_type": "markdown",
      "metadata": {
        "id": "gcvRcjwA0zWd"
      },
      "source": [
        "#### Dataset B"
      ]
    },
    {
      "cell_type": "code",
      "metadata": {
        "colab": {
          "base_uri": "https://localhost:8080/"
        },
        "id": "6wpygI48uK-G",
        "outputId": "e60128e9-e30d-4371-8c13-c26908d1ed8d"
      },
      "source": [
        "from sklearn import datasets\n",
        "import numpy as np\n",
        "from sklearn.datasets import fetch_openml\n",
        "dataset = fetch_openml(name='optdigits',version=1)\n",
        "#Classification for two classes and two features\n",
        "x, y = dataset['data'], dataset['target']\n",
        "#x3 = x3.astype(int)\n",
        "y = y.astype(int)\n",
        "\n",
        "print(f'x: {x.shape}')\n",
        "print(f'y: {y.shape}\\n')\n",
        "\n",
        "#Testing for the model...\n",
        "total_size = x.shape[0]\n",
        "train_size = x.shape[0]-x.shape[0]//10\n",
        "test_size = total_size-train_size\n",
        "\n",
        "x = x[:total_size]; y = y[:total_size]\n",
        "x_train = x[:train_size]; x_test = x[train_size:]\n",
        "y_train = y[:train_size]; y_test = y[train_size:]\n",
        "\n",
        "print(f'Train size: {train_size}\\nTest size: {test_size}\\n')\n",
        "\n",
        "batch_size = [50,60,70,80,90,100,110,120]\n",
        "learning_rate = [0.001,0.002,0.003,0.004, 0.005,0.006,0.007,0.008, 0.009]\n",
        "momentum = [0.9, 0.91, 0.92, 0.93, 0.94,0.95, 0.96, 0.97, 0.98, 0.99]\n",
        "final_hyperparameters_b = [0,0,0,0]\n",
        "temp_accuracy = 0\n",
        "\n",
        "model = SoftmaxRegression()\n",
        "for i in range(5):\n",
        "  for j in range(5):\n",
        "    for k in range(5):\n",
        "      temp_optimizer = Moment_Grad(learning_rate[j],momentum[k])\n",
        "      temp_batch_size = batch_size[i]\n",
        "      model.fit(x_train , y_train ,temp_batch_size, temp_optimizer)\n",
        "      model.accuracy(x_test,y_test)\n",
        "      # print(f'learning_rate: {learning_rate[j]}')\n",
        "      # print(f'momentum: {momentum[k]}')\n",
        "      # print(f'Batch size: {temp_batch_size}')\n",
        "      # print(f'Accuracy: {model.accuracy(x_test,y_test)}')\n",
        "      if model.accuracy(x_test,y_test) > temp_accuracy:\n",
        "        final_hyperparameters_b[0] = temp_batch_size\n",
        "        final_hyperparameters_b[1] = learning_rate[j]\n",
        "        final_hyperparameters_b[2] = momentum[k]\n",
        "        final_hyperparameters_b[3] = model.accuracy(x_test,y_test)\n",
        "        temp_accuracy = model.accuracy(x_test,y_test)\n",
        "\n",
        "print(final_hyperparameters_b)"
      ],
      "execution_count": 162,
      "outputs": [
        {
          "output_type": "stream",
          "text": [
            "x: (5620, 64)\n",
            "y: (5620,)\n",
            "\n",
            "Train size: 5058\n",
            "Test size: 562\n",
            "\n",
            "[90, 0.002, 0.92, 0.7935943060498221]\n"
          ],
          "name": "stdout"
        }
      ]
    },
    {
      "cell_type": "markdown",
      "metadata": {
        "id": "4MaDlsTk02mu"
      },
      "source": [
        "#### Dataset C"
      ]
    },
    {
      "cell_type": "code",
      "metadata": {
        "colab": {
          "base_uri": "https://localhost:8080/"
        },
        "id": "03BfQFxR1Cr_",
        "outputId": "4564b658-4be3-457d-aceb-cc2393fdcf60"
      },
      "source": [
        "from sklearn import datasets\n",
        "import numpy as np\n",
        "from sklearn.datasets import fetch_openml\n",
        "dataset = fetch_openml(name='waveform-5000',version=1)\n",
        "#Classification for two classes and two features\n",
        "x, y = dataset['data'], dataset['target']\n",
        "#x3 = x3.astype(int)\n",
        "y = y.astype(int)\n",
        "\n",
        "print(f'x: {x.shape}')\n",
        "print(f'y: {y.shape}\\n')\n",
        "\n",
        "#Testing for the model...\n",
        "total_size = x.shape[0]\n",
        "train_size = x.shape[0]-x.shape[0]//10\n",
        "test_size = total_size-train_size\n",
        "\n",
        "x = x[:total_size]; y = y[:total_size]\n",
        "x_train = x[:train_size]; x_test = x[train_size:]\n",
        "y_train = y[:train_size]; y_test = y[train_size:]\n",
        "\n",
        "print(f'Train size: {train_size}\\nTest size: {test_size}\\n')\n",
        "\n",
        "batch_size = [50,60,70,80,90,100,110,120]\n",
        "learning_rate = [0.001,0.002,0.003,0.004, 0.005,0.006,0.007,0.008, 0.009]\n",
        "momentum = [0.9, 0.91, 0.92, 0.93, 0.94,0.95, 0.96, 0.97, 0.98, 0.99]\n",
        "final_hyperparameters_b = [0,0,0,0]\n",
        "temp_accuracy = 0\n",
        "\n",
        "model = SoftmaxRegression()\n",
        "for i in range(5):\n",
        "  for j in range(5):\n",
        "    for k in range(5):\n",
        "      temp_optimizer = Moment_Grad(learning_rate[j],momentum[k])\n",
        "      temp_batch_size = batch_size[i]\n",
        "      model.fit(x_train , y_train ,temp_batch_size, temp_optimizer)\n",
        "      model.accuracy(x_test,y_test)\n",
        "      # print(f'learning_rate: {learning_rate[j]}')\n",
        "      # print(f'momentum: {momentum[k]}')\n",
        "      # print(f'Batch size: {temp_batch_size}')\n",
        "      # print(f'Accuracy: {model.accuracy(x_test,y_test)}')\n",
        "      if model.accuracy(x_test,y_test) > temp_accuracy:\n",
        "        final_hyperparameters_b[0] = temp_batch_size\n",
        "        final_hyperparameters_b[1] = learning_rate[j]\n",
        "        final_hyperparameters_b[2] = momentum[k]\n",
        "        final_hyperparameters_b[3] = model.accuracy(x_test,y_test)\n",
        "        temp_accuracy = model.accuracy(x_test,y_test)\n",
        "\n",
        "print(final_hyperparameters_b)"
      ],
      "execution_count": 163,
      "outputs": [
        {
          "output_type": "stream",
          "text": [
            "x: (5000, 40)\n",
            "y: (5000,)\n",
            "\n",
            "Train size: 4500\n",
            "Test size: 500\n",
            "\n",
            "[80, 0.004, 0.94, 0.694]\n"
          ],
          "name": "stdout"
        }
      ]
    },
    {
      "cell_type": "markdown",
      "metadata": {
        "id": "12V6q1LvhYuW"
      },
      "source": [
        "## Cross Validation"
      ]
    },
    {
      "cell_type": "markdown",
      "metadata": {
        "id": "1ldYPy6282ol"
      },
      "source": [
        "### Dataset A"
      ]
    },
    {
      "cell_type": "code",
      "metadata": {
        "id": "u3H4h7dnhaYa"
      },
      "source": [
        "from sklearn import datasets\n",
        "import numpy as np\n",
        "import matplotlib.pyplot as plt \n",
        "import datetime\n",
        "dataset = datasets.load_digits()\n",
        "#Classification for two classes and two features\n",
        "x_rest, y_rest = dataset['data'], dataset['target']"
      ],
      "execution_count": 164,
      "outputs": []
    },
    {
      "cell_type": "code",
      "metadata": {
        "id": "csu8BONohcGz"
      },
      "source": [
        "def cross_validate(n, n_folds=5):\n",
        "  n_val = n // n_folds\n",
        "  for f in range(n_folds):\n",
        "    tr_inds = []\n",
        "    val_inds = list(range(f * n_val, (f+1)*n_val))\n",
        "    if f > 0:\n",
        "      tr_inds = list(range(f*n_val))\n",
        "    if f < n_folds - 1:\n",
        "      tr_inds = tr_inds + list(range((f+1)*n_val, n))\n",
        "    yield tr_inds, val_inds"
      ],
      "execution_count": 165,
      "outputs": []
    },
    {
      "cell_type": "markdown",
      "metadata": {
        "id": "4XqpVh0dhe19"
      },
      "source": [
        "#### Batch Size"
      ]
    },
    {
      "cell_type": "code",
      "metadata": {
        "id": "f1fvMOLvhgkY",
        "colab": {
          "base_uri": "https://localhost:8080/",
          "height": 279
        },
        "outputId": "c6598ccc-5e8a-44b4-85f3-aeaab1ea4de5"
      },
      "source": [
        "n_rest = len(x_rest)\n",
        "K_list = range(20,150,10)\n",
        "num_folds = 5\n",
        "time_list = []\n",
        "err_valid, err_train = np.zeros((len(K_list), num_folds)), np.zeros((len(K_list), num_folds))\n",
        "for i, K in enumerate(K_list):\n",
        "  for f, (tr, val) in enumerate(cross_validate(n_rest, num_folds)):\n",
        "    begin_time = datetime.datetime.now()\n",
        "    model = SoftmaxRegression()\n",
        "    temp_optimizer = Moment_Grad(final_hyperparameters_a[1],final_hyperparameters_a[2])\n",
        "    tempx = []\n",
        "    tempy = []\n",
        "    tempx_val = []\n",
        "    tempy_val = []\n",
        "    for j in range(len(tr)):\n",
        "      tempx.append(x_rest[tr[j]])\n",
        "      tempy.append(y_rest[tr[j]])\n",
        "    tempx = np.array(tempx)\n",
        "    tempy = np.array(tempy)\n",
        "    model.fit(tempx, tempy, K, temp_optimizer)\n",
        "    err_train[i, f] = 100 * model.accuracy(tempx,tempy)\n",
        "    for k in range(len(val)):\n",
        "      tempx_val.append(x_rest[val[k]])\n",
        "      tempy_val.append(y_rest[val[k]])\n",
        "    tempx_val = np.array(tempx_val)\n",
        "    tempy_val = np.array(tempy_val)\n",
        "    err_valid[i, f] = 100 * model.accuracy(tempx_val,tempy_val)\n",
        "  model = SoftmaxRegression()\n",
        "  temp_optimizer = Moment_Grad(final_hyperparameters_a[1],final_hyperparameters_a[2])\n",
        "  model.fit(x_rest, y_rest,K ,temp_optimizer)\n",
        "  time_list.append((datetime.datetime.now() - begin_time).total_seconds())\n",
        "\n",
        "plt.plot(K_list, np.mean(err_valid, axis=1),  label='validation')\n",
        "plt.plot(K_list, np.mean(err_train, axis=1),  label='train')\n",
        "plt.legend()\n",
        "plt.xlabel('Batch Size')\n",
        "plt.ylabel('Accuracy (%)')\n",
        "plt.show()"
      ],
      "execution_count": 166,
      "outputs": [
        {
          "output_type": "display_data",
          "data": {
            "image/png": "[encoded data removed]",
            "text/plain": [
              "<Figure size 432x288 with 1 Axes>"
            ]
          },
          "metadata": {
            "tags": [],
            "needs_background": "light"
          }
        }
      ]
    },
    {
      "cell_type": "code",
      "metadata": {
        "id": "r3g_X7jPpctj",
        "colab": {
          "base_uri": "https://localhost:8080/",
          "height": 283
        },
        "outputId": "b01d0309-73b4-4635-8717-b98042fbe5ea"
      },
      "source": [
        "plt.plot(K_list, time_list,  label='runtime')\n",
        "plt.legend()\n",
        "plt.xlabel('Batch Size')\n",
        "plt.ylabel('Runtime (s)')\n",
        "plt.show()"
      ],
      "execution_count": 167,
      "outputs": [
        {
          "output_type": "display_data",
          "data": {
            "image/png": "[encoded data removed]",
            "text/plain": [
              "<Figure size 432x288 with 1 Axes>"
            ]
          },
          "metadata": {
            "tags": [],
            "needs_background": "light"
          }
        }
      ]
    },
    {
      "cell_type": "markdown",
      "metadata": {
        "id": "TqTstvRYhhaj"
      },
      "source": [
        "#### Learning Rate"
      ]
    },
    {
      "cell_type": "code",
      "metadata": {
        "id": "RpqeCdVHhkXk",
        "colab": {
          "base_uri": "https://localhost:8080/",
          "height": 279
        },
        "outputId": "31d0d6d8-e429-4454-d0c3-57b1aad66fcf"
      },
      "source": [
        "n_rest = len(x_rest)\n",
        "learning_rate = [x / 1000.0 for x in range(1, 50, 5)]\n",
        "num_folds = 5\n",
        "time_list = []\n",
        "err_valid, err_train = np.zeros((len(learning_rate), num_folds)), np.zeros((len(learning_rate), num_folds))\n",
        "for i, K in enumerate(learning_rate):\n",
        "  for f, (tr, val) in enumerate(cross_validate(n_rest, num_folds)):\n",
        "    begin_time = datetime.datetime.now()\n",
        "    model = SoftmaxRegression()\n",
        "    temp_optimizer = Moment_Grad(learning_rate[int(K)],final_hyperparameters_a[2])\n",
        "    tempx = []\n",
        "    tempy = []\n",
        "    tempx_val = []\n",
        "    tempy_val = []\n",
        "    for j in range(len(tr)):\n",
        "      tempx.append(x_rest[tr[j]])\n",
        "      tempy.append(y_rest[tr[j]])\n",
        "    tempx = np.array(tempx)\n",
        "    tempy = np.array(tempy)\n",
        "    model.fit(tempx, tempy, final_hyperparameters_a[0], temp_optimizer)\n",
        "    err_train[i, f] = 100 * model.accuracy(tempx,tempy)\n",
        "    for k in range(len(val)):\n",
        "      tempx_val.append(x_rest[val[k]])\n",
        "      tempy_val.append(y_rest[val[k]])\n",
        "    tempx_val = np.array(tempx_val)\n",
        "    tempy_val = np.array(tempy_val)\n",
        "    err_valid[i, f] = 100 * model.accuracy(tempx_val,tempy_val)\n",
        "  model = SoftmaxRegression()\n",
        "  temp_optimizer = Moment_Grad(learning_rate[int(K)],final_hyperparameters_a[2])\n",
        "  model.fit(x_rest, y_rest, final_hyperparameters_a[0], temp_optimizer)\n",
        "  time_list.append((datetime.datetime.now() - begin_time).total_seconds())\n",
        "\n",
        "plt.plot(learning_rate, np.mean(err_valid, axis=1),  label='validation')\n",
        "plt.plot(learning_rate, np.mean(err_train, axis=1),  label='train')\n",
        "plt.legend()\n",
        "plt.xlabel('learning rate')\n",
        "plt.ylabel('Accuracy (%)')\n",
        "plt.show()"
      ],
      "execution_count": 168,
      "outputs": [
        {
          "output_type": "display_data",
          "data": {
            "image/png": "[encoded data removed]",
            "text/plain": [
              "<Figure size 432x288 with 1 Axes>"
            ]
          },
          "metadata": {
            "tags": [],
            "needs_background": "light"
          }
        }
      ]
    },
    {
      "cell_type": "code",
      "metadata": {
        "id": "TwAzPGe8pY86",
        "colab": {
          "base_uri": "https://localhost:8080/",
          "height": 279
        },
        "outputId": "7a13e16f-50dc-4f89-9e91-8f0df21ec764"
      },
      "source": [
        "plt.plot(learning_rate, time_list,  label='runtime')\n",
        "plt.legend()\n",
        "plt.xlabel('learning rates')\n",
        "plt.ylabel('Runtime (s)')\n",
        "plt.show()"
      ],
      "execution_count": 169,
      "outputs": [
        {
          "output_type": "display_data",
          "data": {
            "image/png": "[encoded data removed]",
            "text/plain": [
              "<Figure size 432x288 with 1 Axes>"
            ]
          },
          "metadata": {
            "tags": [],
            "needs_background": "light"
          }
        }
      ]
    },
    {
      "cell_type": "markdown",
      "metadata": {
        "id": "QXF742YshmZD"
      },
      "source": [
        "#### Momentum"
      ]
    },
    {
      "cell_type": "code",
      "metadata": {
        "id": "PloVy3I55Mj4"
      },
      "source": [
        "dataset = datasets.load_digits()\n",
        "#Classification for two classes and two features\n",
        "x_rest, y_rest = dataset['data'], dataset['target']"
      ],
      "execution_count": 170,
      "outputs": []
    },
    {
      "cell_type": "code",
      "metadata": {
        "id": "5vk4DuuxhoAp",
        "colab": {
          "base_uri": "https://localhost:8080/",
          "height": 279
        },
        "outputId": "eb1df15f-4c26-4ac0-9880-47ffc53cdf47"
      },
      "source": [
        "n_rest = len(x_rest)\n",
        "momentum = [0.9, 0.91, 0.92, 0.93, 0.94, 0.95, 0.96, 0.97, 0.98]\n",
        "num_folds = 5\n",
        "err_valid, err_train = np.zeros((len(momentum), num_folds)), np.zeros((len(momentum), num_folds))\n",
        "time_list = []\n",
        "for i, K in enumerate(momentum):\n",
        "  for f, (tr, val) in enumerate(cross_validate(n_rest, num_folds)):\n",
        "    begin_time = datetime.datetime.now()\n",
        "    model = SoftmaxRegression()\n",
        "    temp_optimizer = Moment_Grad(final_hyperparameters_a[1],momentum[int(K)])\n",
        "    tempx = []\n",
        "    tempy = []\n",
        "    tempx_val = []\n",
        "    tempy_val = []\n",
        "    for j in range(len(tr)):\n",
        "      tempx.append(x_rest[tr[j]])\n",
        "      tempy.append(y_rest[tr[j]])\n",
        "    tempx = np.array(tempx)\n",
        "    tempy = np.array(tempy)\n",
        "    model.fit(tempx, tempy,final_hyperparameters_a[0], temp_optimizer)\n",
        "    err_train[i, f] = 100 * model.accuracy(tempx,tempy)\n",
        "    for k in range(len(val)):\n",
        "      tempx_val.append(x_rest[val[k]])\n",
        "      tempy_val.append(y_rest[val[k]])\n",
        "    tempx_val = np.array(tempx_val)\n",
        "    tempy_val = np.array(tempy_val)\n",
        "    err_valid[i, f] = 100 * model.accuracy(tempx_val,tempy_val)\n",
        "  model = SoftmaxRegression()\n",
        "  temp_optimizer = Moment_Grad(final_hyperparameters_a[1],momentum[int(K)])\n",
        "  model.fit(x_rest, y_rest,final_hyperparameters_a[0] ,temp_optimizer)\n",
        "  time_list.append((datetime.datetime.now() - begin_time).total_seconds())\n",
        "\n",
        "plt.plot(momentum, np.mean(err_valid, axis=1),  label='validation')\n",
        "plt.plot(momentum, np.mean(err_train, axis=1),  label='train')\n",
        "plt.legend()\n",
        "plt.xlabel('momentum')\n",
        "plt.ylabel('Accuracy (%)')\n",
        "plt.show()"
      ],
      "execution_count": 171,
      "outputs": [
        {
          "output_type": "display_data",
          "data": {
            "image/png": "[encoded data removed]",
            "text/plain": [
              "<Figure size 432x288 with 1 Axes>"
            ]
          },
          "metadata": {
            "tags": [],
            "needs_background": "light"
          }
        }
      ]
    },
    {
      "cell_type": "code",
      "metadata": {
        "id": "JOKpwuzwpTFr",
        "colab": {
          "base_uri": "https://localhost:8080/",
          "height": 279
        },
        "outputId": "ca1b23fc-966f-42cd-9815-071a9c380e3b"
      },
      "source": [
        "plt.plot(momentum, time_list,  label='runtime')\n",
        "plt.legend()\n",
        "plt.xlabel('momentum')\n",
        "plt.ylabel('Runtime (s)')\n",
        "plt.show()"
      ],
      "execution_count": 172,
      "outputs": [
        {
          "output_type": "display_data",
          "data": {
            "image/png": "[encoded data removed]",
            "text/plain": [
              "<Figure size 432x288 with 1 Axes>"
            ]
          },
          "metadata": {
            "tags": [],
            "needs_background": "light"
          }
        }
      ]
    },
    {
      "cell_type": "markdown",
      "metadata": {
        "id": "Zhw2imKy9Hvo"
      },
      "source": [
        "### Dataset B"
      ]
    },
    {
      "cell_type": "code",
      "metadata": {
        "id": "Xh0HhDtU9jG6"
      },
      "source": [
        "from sklearn import datasets\n",
        "import numpy as np\n",
        "import matplotlib.pyplot as plt \n",
        "import datetime\n",
        "from sklearn.datasets import fetch_openml\n",
        "dataset = fetch_openml(name='optdigits',version=1)\n",
        "#Classification for two classes and two features\n",
        "x_rest_b, y_rest_b = dataset['data'], dataset['target']\n",
        "#x3 = x3.astype(int)\n",
        "y_rest_b = y_rest_b.astype(int)"
      ],
      "execution_count": 173,
      "outputs": []
    },
    {
      "cell_type": "markdown",
      "metadata": {
        "id": "wox_pikG-m7N"
      },
      "source": [
        "#### Batch Size"
      ]
    },
    {
      "cell_type": "code",
      "metadata": {
        "colab": {
          "base_uri": "https://localhost:8080/",
          "height": 279
        },
        "id": "sjXK_uGm9XUG",
        "outputId": "d7114719-70b1-4fa6-ac74-e404e50bfb21"
      },
      "source": [
        "n_rest = len(x_rest_b)\n",
        "K_list = range(20,150,10)\n",
        "num_folds = 5\n",
        "time_list = []\n",
        "err_valid, err_train = np.zeros((len(K_list), num_folds)), np.zeros((len(K_list), num_folds))\n",
        "for i, K in enumerate(K_list):\n",
        "  for f, (tr, val) in enumerate(cross_validate(n_rest, num_folds)):\n",
        "    begin_time = datetime.datetime.now()\n",
        "    model = SoftmaxRegression()\n",
        "    temp_optimizer = Moment_Grad(final_hyperparameters_b[1],final_hyperparameters_b[2])\n",
        "    tempx = []\n",
        "    tempy = []\n",
        "    tempx_val = []\n",
        "    tempy_val = []\n",
        "    for j in range(len(tr)):\n",
        "      tempx.append(x_rest_b[tr[j]])\n",
        "      tempy.append(y_rest_b[tr[j]])\n",
        "    tempx = np.array(tempx)\n",
        "    tempy = np.array(tempy)\n",
        "    model.fit(tempx, tempy, K, temp_optimizer)\n",
        "    err_train[i, f] = 100 * model.accuracy(tempx,tempy)\n",
        "    for k in range(len(val)):\n",
        "      tempx_val.append(x_rest_b[val[k]])\n",
        "      tempy_val.append(y_rest_b[val[k]])\n",
        "    tempx_val = np.array(tempx_val)\n",
        "    tempy_val = np.array(tempy_val)\n",
        "    err_valid[i, f] = 100 * model.accuracy(tempx_val,tempy_val)\n",
        "  model = SoftmaxRegression()\n",
        "  temp_optimizer = Moment_Grad(final_hyperparameters_b[1],final_hyperparameters_b[2])\n",
        "  model.fit(x_rest_b, y_rest_b,K ,temp_optimizer)\n",
        "  time_list.append((datetime.datetime.now() - begin_time).total_seconds())\n",
        "\n",
        "plt.plot(K_list, np.mean(err_valid, axis=1),  label='validation')\n",
        "plt.plot(K_list, np.mean(err_train, axis=1),  label='train')\n",
        "plt.legend()\n",
        "plt.xlabel('Batch Size')\n",
        "plt.ylabel('Accuracy (%)')\n",
        "plt.show()"
      ],
      "execution_count": 174,
      "outputs": [
        {
          "output_type": "display_data",
          "data": {
            "image/png": "[encoded data removed]",
            "text/plain": [
              "<Figure size 432x288 with 1 Axes>"
            ]
          },
          "metadata": {
            "tags": [],
            "needs_background": "light"
          }
        }
      ]
    },
    {
      "cell_type": "code",
      "metadata": {
        "colab": {
          "base_uri": "https://localhost:8080/",
          "height": 279
        },
        "id": "JtvxvSFX9XQh",
        "outputId": "3cd290d9-766e-4d1f-dad3-fedd6ecade91"
      },
      "source": [
        "plt.plot(K_list, time_list,  label='runtime')\n",
        "plt.legend()\n",
        "plt.xlabel('Batch Size')\n",
        "plt.ylabel('Runtime (s)')\n",
        "plt.show()"
      ],
      "execution_count": 175,
      "outputs": [
        {
          "output_type": "display_data",
          "data": {
            "image/png": "[encoded data removed]",
            "text/plain": [
              "<Figure size 432x288 with 1 Axes>"
            ]
          },
          "metadata": {
            "tags": [],
            "needs_background": "light"
          }
        }
      ]
    },
    {
      "cell_type": "markdown",
      "metadata": {
        "id": "dsfOIoK9-rV5"
      },
      "source": [
        "#### Learning Rate"
      ]
    },
    {
      "cell_type": "code",
      "metadata": {
        "colab": {
          "base_uri": "https://localhost:8080/",
          "height": 279
        },
        "id": "jMfQymFz9PLH",
        "outputId": "09cbdce9-a293-45ec-a6b2-7e613332b123"
      },
      "source": [
        "n_rest = len(x_rest_b)\n",
        "learning_rate = [x / 1000.0 for x in range(1, 50, 5)]\n",
        "num_folds = 5\n",
        "time_list = []\n",
        "err_valid, err_train = np.zeros((len(learning_rate), num_folds)), np.zeros((len(learning_rate), num_folds))\n",
        "for i, K in enumerate(learning_rate):\n",
        "  for f, (tr, val) in enumerate(cross_validate(n_rest, num_folds)):\n",
        "    begin_time = datetime.datetime.now()\n",
        "    model = SoftmaxRegression()\n",
        "    temp_optimizer = Moment_Grad(learning_rate[int(K)],final_hyperparameters_b[2])\n",
        "    tempx = []\n",
        "    tempy = []\n",
        "    tempx_val = []\n",
        "    tempy_val = []\n",
        "    for j in range(len(tr)):\n",
        "      tempx.append(x_rest_b[tr[j]])\n",
        "      tempy.append(y_rest_b[tr[j]])\n",
        "    tempx = np.array(tempx)\n",
        "    tempy = np.array(tempy)\n",
        "    model.fit(tempx, tempy, final_hyperparameters_b[0], temp_optimizer)\n",
        "    err_train[i, f] = 100 * model.accuracy(tempx,tempy)\n",
        "    for k in range(len(val)):\n",
        "      tempx_val.append(x_rest_b[val[k]])\n",
        "      tempy_val.append(y_rest_b[val[k]])\n",
        "    tempx_val = np.array(tempx_val)\n",
        "    tempy_val = np.array(tempy_val)\n",
        "    err_valid[i, f] = 100 * model.accuracy(tempx_val,tempy_val)\n",
        "  model = SoftmaxRegression()\n",
        "  temp_optimizer = Moment_Grad(learning_rate[int(K)],final_hyperparameters_b[2])\n",
        "  model.fit(x_rest_b, y_rest_b, final_hyperparameters_b[0], temp_optimizer)\n",
        "  time_list.append((datetime.datetime.now() - begin_time).total_seconds())\n",
        "\n",
        "plt.plot(learning_rate, np.mean(err_valid, axis=1),  label='validation')\n",
        "plt.plot(learning_rate, np.mean(err_train, axis=1),  label='train')\n",
        "plt.legend()\n",
        "plt.xlabel('learning rate')\n",
        "plt.ylabel('Accuracy (%)')\n",
        "plt.show()"
      ],
      "execution_count": 176,
      "outputs": [
        {
          "output_type": "display_data",
          "data": {
            "image/png": "[encoded data removed]",
            "text/plain": [
              "<Figure size 432x288 with 1 Axes>"
            ]
          },
          "metadata": {
            "tags": [],
            "needs_background": "light"
          }
        }
      ]
    },
    {
      "cell_type": "code",
      "metadata": {
        "colab": {
          "base_uri": "https://localhost:8080/",
          "height": 279
        },
        "id": "zcoOOTPA9PFP",
        "outputId": "a0314b35-bdaf-45a2-9daf-48bdbfd04caa"
      },
      "source": [
        "plt.plot(learning_rate, time_list,  label='runtime')\n",
        "plt.legend()\n",
        "plt.xlabel('learning rates')\n",
        "plt.ylabel('Runtime (s)')\n",
        "plt.show()"
      ],
      "execution_count": 177,
      "outputs": [
        {
          "output_type": "display_data",
          "data": {
            "image/png": "[encoded data removed]",
            "text/plain": [
              "<Figure size 432x288 with 1 Axes>"
            ]
          },
          "metadata": {
            "tags": [],
            "needs_background": "light"
          }
        }
      ]
    },
    {
      "cell_type": "markdown",
      "metadata": {
        "id": "BpIP1rcB-upq"
      },
      "source": [
        "#### Momentum"
      ]
    },
    {
      "cell_type": "code",
      "metadata": {
        "colab": {
          "base_uri": "https://localhost:8080/",
          "height": 279
        },
        "id": "ZUP7raEt3k32",
        "outputId": "ced9cf46-19bc-4f4c-ba80-04ac5a8eff7a"
      },
      "source": [
        "n_rest = len(x_rest_b)\n",
        "momentum = [0.9, 0.91, 0.92, 0.93, 0.94, 0.95, 0.96, 0.97, 0.98]\n",
        "num_folds = 5\n",
        "err_valid, err_train = np.zeros((len(momentum), num_folds)), np.zeros((len(momentum), num_folds))\n",
        "time_list = []\n",
        "for i, K in enumerate(momentum):\n",
        "  for f, (tr, val) in enumerate(cross_validate(n_rest, num_folds)):\n",
        "    begin_time = datetime.datetime.now()\n",
        "    model = SoftmaxRegression()\n",
        "    temp_optimizer = Moment_Grad(final_hyperparameters_b[1],momentum[int(K)])\n",
        "    tempx = []\n",
        "    tempy = []\n",
        "    tempx_val = []\n",
        "    tempy_val = []\n",
        "    for j in range(len(tr)):\n",
        "      tempx.append(x_rest_b[tr[j]])\n",
        "      tempy.append(y_rest_b[tr[j]])\n",
        "    tempx = np.array(tempx)\n",
        "    tempy = np.array(tempy)\n",
        "    model.fit(tempx, tempy,final_hyperparameters_b[0], temp_optimizer)\n",
        "    err_train[i, f] = 100 * model.accuracy(tempx,tempy)\n",
        "    for k in range(len(val)):\n",
        "      tempx_val.append(x_rest_b[val[k]])\n",
        "      tempy_val.append(y_rest_b[val[k]])\n",
        "    tempx_val = np.array(tempx_val)\n",
        "    tempy_val = np.array(tempy_val)\n",
        "    err_valid[i, f] = 100 * model.accuracy(tempx_val,tempy_val)\n",
        "  model = SoftmaxRegression()\n",
        "  temp_optimizer = Moment_Grad(final_hyperparameters_b[1],momentum[int(K)])\n",
        "  model.fit(x_rest_b, y_rest_b,final_hyperparameters_b[0] ,temp_optimizer)\n",
        "  time_list.append((datetime.datetime.now() - begin_time).total_seconds())\n",
        "\n",
        "plt.plot(momentum, np.mean(err_valid, axis=1),  label='validation')\n",
        "plt.plot(momentum, np.mean(err_train, axis=1),  label='train')\n",
        "plt.legend()\n",
        "plt.xlabel('momentum')\n",
        "plt.ylabel('Accuracy (%)')\n",
        "plt.show()"
      ],
      "execution_count": 178,
      "outputs": [
        {
          "output_type": "display_data",
          "data": {
            "image/png": "[encoded data removed]",
            "text/plain": [
              "<Figure size 432x288 with 1 Axes>"
            ]
          },
          "metadata": {
            "tags": [],
            "needs_background": "light"
          }
        }
      ]
    },
    {
      "cell_type": "code",
      "metadata": {
        "colab": {
          "base_uri": "https://localhost:8080/",
          "height": 279
        },
        "id": "0RmhJc3u3l-D",
        "outputId": "7ad7811a-4c5b-4148-ab1f-adc8cb9ca9b3"
      },
      "source": [
        "plt.plot(momentum, time_list,  label='runtime')\n",
        "plt.legend()\n",
        "plt.xlabel('momentum')\n",
        "plt.ylabel('Runtime (s)')\n",
        "plt.show()"
      ],
      "execution_count": 179,
      "outputs": [
        {
          "output_type": "display_data",
          "data": {
            "image/png": "[encoded data removed]",
            "text/plain": [
              "<Figure size 432x288 with 1 Axes>"
            ]
          },
          "metadata": {
            "tags": [],
            "needs_background": "light"
          }
        }
      ]
    },
    {
      "cell_type": "markdown",
      "metadata": {
        "id": "87tLH_uwtwKX"
      },
      "source": [
        "## 2.2 Termination Condidtion"
      ]
    },
    {
      "cell_type": "code",
      "metadata": {
        "id": "3wYynblr0t-j"
      },
      "source": [
        "def one_hot_coding(y):\n",
        "\n",
        "        #Number of different labels\n",
        "        num_classes = np.max(y)+1\n",
        "        #Number of data points\n",
        "        num_instances = y.shape[0]\n",
        "\n",
        "        indicator = np.zeros([num_instances,num_classes])\n",
        "\n",
        "        for i in range(num_instances):\n",
        "\n",
        "            label = y[i]\n",
        "            #print(label)\n",
        "            indicator[i,label] = 1\n",
        "\n",
        "        return indicator "
      ],
      "execution_count": 180,
      "outputs": []
    },
    {
      "cell_type": "code",
      "metadata": {
        "id": "vnE7CUn6otFM"
      },
      "source": [
        "class SoftmaxGradientDescent2:\n",
        "    \n",
        "    def __init__(\n",
        "        self,\n",
        "        learning_rate=0.01,\n",
        "        max_iters=2000,\n",
        "        batch_size=20,\n",
        "        momentum=0.9,\n",
        "        T=20, # if the validation accuracy doesn't change in T steps it terminates\n",
        "        reg_strength=0,\n",
        "        history_step=20,\n",
        "    ):\n",
        "        self.learning_rate = learning_rate\n",
        "        self.max_iters = max_iters\n",
        "        self.batch_size = batch_size\n",
        "        self.momentum = momentum\n",
        "        self.T = T\n",
        "        self.history = {\"tr_accuracy\": [], \"val_accuracy\": []} \n",
        "        self.print_w = False\n",
        "\n",
        "    #Randomly select two batchs of data with desired size\n",
        "    def batch(self,x,y,size):\n",
        "\n",
        "        #With no seed\n",
        "        permute = np.random.permutation(x.shape[0])\n",
        "\n",
        "        x = x[permute][:size]\n",
        "        y = y[permute][:size]\n",
        "        \n",
        "        return x,y\n",
        "    \n",
        "    def softmax(self,X):\n",
        "      \n",
        "        X_exp = np.exp(X-X.max())\n",
        "        partition = X_exp.sum( 1 , keepdims = True )\n",
        "        return ( X_exp / partition )  # The broadcasting mechanism is applied here\n",
        "\n",
        "  \n",
        "    def gradient( self,x, y, w ):# define the gradient function\n",
        "            \n",
        "            yh =  x @ w #N*C\n",
        "            N, D = x.shape \n",
        "            grad = (x.T@(y-yh))/N\n",
        "            return grad # D*C \n",
        "\n",
        "    def acc(self,x,y,w):\n",
        "        \n",
        "        predict = self.softmax(x@w)\n",
        "        predict_class = np.argmax(predict, axis=1)\n",
        "        num_true = np.count_nonzero(predict_class == y)\n",
        "        return num_true / y.shape[0]\n",
        "        \n",
        "    def run(self, gradient_fn, batch_size, x_tr, y_tr, x_val, y_val):\n",
        "        \n",
        "        batch_x,batch_y = self.batch(x_tr,y_tr,batch_size)\n",
        "        x = x_tr\n",
        "        y = y_tr\n",
        "\n",
        "        N,D = x_tr.shape\n",
        "        C = y_tr.max() + 1 # Number of classes\n",
        "\n",
        "        indicator = one_hot_coding(batch_y)# N*C\n",
        "\n",
        "        self.history[\"val_accuracy\"] = []\n",
        "        self.history[\"tr_accuracy\"] = []\n",
        "\n",
        "        #np.random.seed(23)\n",
        "        w = np.zeros([D, C])\n",
        "        best_w = w\n",
        "\n",
        "        accu = -np.inf\n",
        "        counter = 0\n",
        "        t = 0\n",
        "        \n",
        "        # MOMENTUM\n",
        "        momentum = self.momentum\n",
        "        \n",
        "        grad = self.gradient( batch_x , indicator , w )\n",
        "        \n",
        "        delta_w = ( 1-momentum ) * grad\n",
        "\n",
        "        for iteration in range(self.max_iters):\n",
        "          \n",
        "            #Gradient\n",
        "            grad = self.gradient( batch_x , indicator , w ) #D*C\n",
        "            \n",
        "            delta_w = momentum * delta_w - (1-momentum) * grad\n",
        "            \n",
        "            w = w - self.learning_rate * delta_w\n",
        "            \n",
        "            #Check if the validation error is decresing or not\n",
        "            #Same as checking whether the validation accuracy is increasing or not\n",
        "            if accu < self.acc(x_val,y_val,w):\n",
        "                accu = self.acc(x_val,y_val,w)\n",
        "                best_w = w\n",
        "            else:\n",
        "                counter+=1\n",
        "            t=t+1\n",
        "\n",
        "            acc_tr = self.acc(x_tr,y_tr,w)\n",
        "\n",
        "            #Track the training and validation accuracy in each iteration\n",
        "            self.history[\"val_accuracy\"].append(accu)\n",
        "            self.history[\"tr_accuracy\"].append(acc_tr)\n",
        "                \n",
        "            if counter > self.T:\n",
        "                break\n",
        "        \n",
        "        print(f'Accuracy for the validation set with optimal w: {accu}')\n",
        "        print(f'Number of iterations: {t}')\n",
        "\n",
        "        if self.print_w :\n",
        "          print(best_w)\n",
        "        \n",
        "        return best_w#D*C"
      ],
      "execution_count": 181,
      "outputs": []
    },
    {
      "cell_type": "code",
      "metadata": {
        "id": "3lsqCkJKotSq"
      },
      "source": [
        "class SoftmaxRegression2:\n",
        "    \n",
        "    def __init__(self, add_bias=True):\n",
        "        self.add_bias = add_bias \n",
        "        \n",
        "    #From a 1d-array of labels to an indicator matrix, \n",
        "    #where each row of the matrix is made of a one-hot vector\n",
        "    #We assume that each label in y is represented by a non-negative integer\n",
        "    def one_hot_coding(self,y):\n",
        "\n",
        "        #Number of different labels\n",
        "        num_classes = np.max(y)+1\n",
        "        #Number of data points\n",
        "        num_instances = y.shape[0]\n",
        "\n",
        "        indicator = np.zeros([num_instances,num_classes],dtype=np.float128)\n",
        "\n",
        "        for i in range(num_instances):\n",
        "\n",
        "            label = y[i]\n",
        "            #print(label)\n",
        "            indicator[i,label] = 1\n",
        "\n",
        "        return indicator \n",
        "    \n",
        "    # x: N x D\n",
        "    # y: N x 1\n",
        "    def fit(self, x,  y, batch_size, optimizer):\n",
        "        \n",
        "        if self.add_bias:\n",
        "            N = x.shape[0]\n",
        "            x = np.column_stack([x,np.ones(N)])\n",
        "        \n",
        "        val_size = x.shape[0]//10\n",
        "        x_tr = x[val_size:]; y_tr = y[val_size:]\n",
        "        x_val = x[:val_size]; y_val = y[:val_size]\n",
        "        \n",
        "        if x.ndim == 1:\n",
        "            x = x[:,None]\n",
        "        \n",
        "        def gradient( x, y, w ):# define the gradient function\n",
        "            \n",
        "            yh =  x @ w #N*C\n",
        "            N, D = x.shape \n",
        "            grad = (x.T@(y-yh))/N\n",
        "            return grad # D*C\n",
        "\n",
        "        w = optimizer.run(gradient, batch_size, x_tr, y_tr, x_val, y_val)\n",
        "        \n",
        "        self.w = w\n",
        "        return self\n",
        "    \n",
        "    def softmax(self,X):\n",
        "      \n",
        "      X_exp = np.exp(X-X.max())\n",
        "\n",
        "      if X.ndim == 1:\n",
        "        partition = X_exp.sum()\n",
        "      else:\n",
        "        partition = X_exp.sum( 1 , keepdims = True )\n",
        "       \n",
        "      return (X_exp / partition)  # The broadcasting mechanism is applied here\n",
        "\n",
        "    #Cost function: gives back the mean cost (i.e. cost per data point)\n",
        "    def softmax_cost(self,x_test,y_test):\n",
        "        N,D = x_test.shape\n",
        "        if self.add_bias:\n",
        "            x = np.column_stack( [x_test,np.ones(N)])\n",
        "        z = x@self.w      # N*C : prediction for the indicator matrix\n",
        "        indicator = self.one_hot_coding(y_test) # N*C\n",
        "        t = 0\n",
        "        for i in range(N):\n",
        "            t += np.dot(indicator[i],z[i]) - np.log1p(np.exp(z[i]).sum()) \n",
        "        return -t/N #Return the mean cost\n",
        "\n",
        "    #Accuracy: Gives back the accuracy (in decimal format) of the model fitting\n",
        "    def accuracy(self,x_test,y_test):\n",
        "\n",
        "        predict = self.predict(x_test) #N*C\n",
        "        if predict.ndim ==1:\n",
        "            predict_class = np.argmax(predict)\n",
        "        else:\n",
        "            predict_class = np.argmax(predict, axis=1)\n",
        "        num_true = np.count_nonzero(predict_class == y_test)\n",
        "        return num_true / y_test.shape[0]\n",
        "\n",
        "\n",
        "    # Gives back a N*C matrix, with ij-th element being the probability of i-th\n",
        "    # data being classied as label j\n",
        "    def predict(self, x):\n",
        "\n",
        "        N = x.shape[0]\n",
        "\n",
        "        if self.add_bias:\n",
        "            x = np.column_stack([x,np.ones(N)])\n",
        "                \n",
        "        yh = x@self.w # yh: N*C\n",
        "        \n",
        "        yh = self.softmax(yh)\n",
        "         \n",
        "        return yh"
      ],
      "execution_count": 182,
      "outputs": []
    },
    {
      "cell_type": "code",
      "metadata": {
        "id": "N9BLy83MqFvb",
        "colab": {
          "base_uri": "https://localhost:8080/"
        },
        "outputId": "013affeb-733c-4d5a-9035-28590c1a2c8b"
      },
      "source": [
        "from sklearn import datasets\n",
        "dataset = datasets.load_digits()\n",
        "#Classification for two classes and two features\n",
        "x, y = dataset['data'], dataset['target']\n",
        "\n",
        "print(f'x: {x.shape}')\n",
        "print(f'y: {y.shape}\\n')\n",
        "\n",
        "#Testing for the model...\n",
        "total_size = x.shape[0]\n",
        "train_size = x.shape[0]-x.shape[0]//5\n",
        "test_size = total_size-train_size\n",
        "#x = x3;y = y3\n",
        "\n",
        "x = x[:total_size]; y = y[:total_size]\n",
        "x_train = x[:train_size]; x_test = x[train_size:]\n",
        "y_train = y[:train_size]; y_test = y[train_size:]\n",
        "\n",
        "print(f'Train size: {train_size}\\nTest size: {test_size}\\n')\n",
        "\n",
        "model = SoftmaxRegression2()\n",
        "optimizer = SoftmaxGradientDescent2()\n",
        "\n",
        "batch_size = 100\n",
        "\n",
        "model.fit(x_train, y_train , batch_size, optimizer)\n",
        "\n",
        "print(f'\\nAccuracy of the final result on the testing data: {model.accuracy(x_test,y_test)}')"
      ],
      "execution_count": 183,
      "outputs": [
        {
          "output_type": "stream",
          "text": [
            "x: (1797, 64)\n",
            "y: (1797,)\n",
            "\n",
            "Train size: 1438\n",
            "Test size: 359\n",
            "\n",
            "Accuracy for the validation set with optimal w: 0.8461538461538461\n",
            "Number of iterations: 29\n",
            "\n",
            "Accuracy of the final result on the testing data: 0.8245125348189415\n"
          ],
          "name": "stdout"
        }
      ]
    },
    {
      "cell_type": "markdown",
      "metadata": {
        "id": "0UnCpcZotzMm"
      },
      "source": [
        "## 2.3 Comparison against another classifier"
      ]
    },
    {
      "cell_type": "markdown",
      "metadata": {
        "id": "hMHO3w3p5v6C"
      },
      "source": [
        "### Dataset A"
      ]
    },
    {
      "cell_type": "code",
      "metadata": {
        "id": "oID_3thmiQi-"
      },
      "source": [
        "def cross_validate(n, n_folds=5):\n",
        "  n_val = n // n_folds\n",
        "  for f in range(n_folds):\n",
        "    tr_inds = []\n",
        "    val_inds = list(range(f * n_val, (f+1)*n_val))\n",
        "    if f > 0:\n",
        "      tr_inds = list(range(f*n_val))\n",
        "    if f < n_folds - 1:\n",
        "      tr_inds = tr_inds + list(range((f+1)*n_val, n))\n",
        "    yield tr_inds, val_inds"
      ],
      "execution_count": 184,
      "outputs": []
    },
    {
      "cell_type": "code",
      "metadata": {
        "id": "tzmsZPSJuMBu"
      },
      "source": [
        "from sklearn import datasets\n",
        "import numpy as np\n",
        "from sklearn.datasets import fetch_openml\n",
        "from sklearn.metrics import accuracy_score\n",
        "import datetime\n",
        "import matplotlib.pyplot as plt \n",
        "from sklearn.neighbors import KNeighborsClassifier\n",
        "dataset = datasets.load_digits()\n",
        "#Classification for two classes and two features\n",
        "x_rest, y_rest = dataset['data'], dataset['target']"
      ],
      "execution_count": 185,
      "outputs": []
    },
    {
      "cell_type": "code",
      "metadata": {
        "id": "DF3E9cRhiSM_",
        "colab": {
          "base_uri": "https://localhost:8080/",
          "height": 279
        },
        "outputId": "6d94e0fe-c55a-4d33-ab2a-1ff964274df3"
      },
      "source": [
        "num_folds = 5\n",
        "n_rest = len(y_rest)\n",
        "K_list = range(1,20)\n",
        "time_list = []\n",
        "err_valid = np.zeros((len(K_list), num_folds))\n",
        "err_train = np.zeros((len(K_list), num_folds))\n",
        "for i, K in enumerate(K_list):\n",
        "  for f, (tr, val) in enumerate(cross_validate(n_rest, num_folds)):\n",
        "    begin_time = datetime.datetime.now()\n",
        "    model = KNeighborsClassifier(n_neighbors=K)\n",
        "    model = model.fit(x_rest[tr], y_rest[tr])\n",
        "    y_pred = model.predict(x_rest[tr]).astype(int)\n",
        "    err_train[i, f] = model.score(x_rest[tr], y_rest[tr])\n",
        "    y_val_pre = model.predict(x_rest[val]).astype(np.int32)\n",
        "    err_valid[i, f] = model.score(x_rest[val], y_rest[val])\n",
        "  model = KNeighborsClassifier(n_neighbors=K)\n",
        "  model = model.fit(x_rest, y_rest)\n",
        "  time_list.append((datetime.datetime.now() - begin_time).total_seconds())\n",
        "\n",
        "plt.plot(K_list, np.mean(err_valid, axis=1),  label='validation')\n",
        "plt.plot(K_list, np.mean(err_train, axis=1),  label='train')\n",
        "plt.legend()\n",
        "plt.xlabel('K (number of neighbours)')\n",
        "plt.ylabel('Accuracy (%)')\n",
        "plt.show()"
      ],
      "execution_count": 186,
      "outputs": [
        {
          "output_type": "display_data",
          "data": {
            "image/png": "[encoded data removed]",
            "text/plain": [
              "<Figure size 432x288 with 1 Axes>"
            ]
          },
          "metadata": {
            "tags": [],
            "needs_background": "light"
          }
        }
      ]
    },
    {
      "cell_type": "code",
      "metadata": {
        "colab": {
          "base_uri": "https://localhost:8080/",
          "height": 279
        },
        "id": "ixue98Z88Thy",
        "outputId": "0d2cfe87-2522-4813-d2b6-72d7029c5940"
      },
      "source": [
        "plt.plot(K_list, time_list,  label='runtime')\n",
        "plt.legend()\n",
        "plt.xlabel('K value')\n",
        "plt.ylabel('Runtime (s)')\n",
        "plt.show()"
      ],
      "execution_count": 187,
      "outputs": [
        {
          "output_type": "display_data",
          "data": {
            "image/png": "[encoded data removed]",
            "text/plain": [
              "<Figure size 432x288 with 1 Axes>"
            ]
          },
          "metadata": {
            "tags": [],
            "needs_background": "light"
          }
        }
      ]
    },
    {
      "cell_type": "code",
      "metadata": {
        "colab": {
          "base_uri": "https://localhost:8080/"
        },
        "id": "TwEsxjpb8TaN",
        "outputId": "ee7c4301-6a37-4ccf-ecd3-c5213e81a7ab"
      },
      "source": [
        "print(time_list)\n",
        "print(np.mean(err_valid, axis=1))"
      ],
      "execution_count": 188,
      "outputs": [
        {
          "output_type": "stream",
          "text": [
            "[0.270589, 0.636008, 0.669621, 0.678389, 0.675443, 0.691703, 0.700245, 0.701724, 0.712991, 0.701954, 0.71039, 0.710833, 0.723096, 0.719844, 0.741478, 0.719999, 0.723385, 0.722302, 0.728226]\n",
            "[0.96490251 0.96824513 0.96657382 0.96490251 0.96490251 0.96155989\n",
            " 0.96044568 0.95933148 0.95766017 0.95710306 0.95766017 0.95710306\n",
            " 0.95710306 0.95710306 0.95598886 0.95710306 0.95543175 0.95153203\n",
            " 0.95264624]\n"
          ],
          "name": "stdout"
        }
      ]
    },
    {
      "cell_type": "markdown",
      "metadata": {
        "id": "gaulTPqx5zD6"
      },
      "source": [
        "### Dataset B"
      ]
    },
    {
      "cell_type": "code",
      "metadata": {
        "id": "1UuSU2iI5yXa"
      },
      "source": [
        "from sklearn import datasets\n",
        "import numpy as np\n",
        "from sklearn.datasets import fetch_openml\n",
        "from sklearn.metrics import accuracy_score\n",
        "import datetime\n",
        "import matplotlib.pyplot as plt \n",
        "from sklearn.neighbors import KNeighborsClassifier\n",
        "dataset = fetch_openml(name='optdigits',version=1)\n",
        "#Classification for two classes and two features\n",
        "x_rest, y_rest = dataset['data'], dataset['target']\n",
        "#x3 = x3.astype(int)\n",
        "y_rest = y_rest.astype(int)"
      ],
      "execution_count": 189,
      "outputs": []
    },
    {
      "cell_type": "code",
      "metadata": {
        "colab": {
          "base_uri": "https://localhost:8080/",
          "height": 279
        },
        "id": "nsMuRsOa5-Yk",
        "outputId": "5f5520da-4de5-4f26-ca30-c452d191cdf8"
      },
      "source": [
        "num_folds = 5\n",
        "n_rest = len(y_rest)\n",
        "K_list = range(1,20)\n",
        "time_list = []\n",
        "err_valid = np.zeros((len(K_list), num_folds))\n",
        "err_train = np.zeros((len(K_list), num_folds))\n",
        "for i, K in enumerate(K_list):\n",
        "  for f, (tr, val) in enumerate(cross_validate(n_rest, num_folds)):\n",
        "    begin_time = datetime.datetime.now()\n",
        "    model = KNeighborsClassifier(n_neighbors=K)\n",
        "    model = model.fit(x_rest[tr], y_rest[tr])\n",
        "    y_pred = model.predict(x_rest[tr]).astype(int)\n",
        "    err_train[i, f] = model.score(x_rest[tr], y_rest[tr])\n",
        "    y_val_pre = model.predict(x_rest[val]).astype(np.int32)\n",
        "    err_valid[i, f] = model.score(x_rest[val], y_rest[val])\n",
        "  model = KNeighborsClassifier(n_neighbors=K)\n",
        "  model = model.fit(x_rest, y_rest)\n",
        "  time_list.append((datetime.datetime.now() - begin_time).total_seconds())\n",
        "\n",
        "plt.plot(K_list, np.mean(err_valid, axis=1),  label='validation')\n",
        "plt.plot(K_list, np.mean(err_train, axis=1),  label='train')\n",
        "plt.legend()\n",
        "plt.xlabel('K (number of neighbours)')\n",
        "plt.ylabel('Accuracy (%)')\n",
        "plt.show()"
      ],
      "execution_count": 198,
      "outputs": [
        {
          "output_type": "display_data",
          "data": {
            "image/png": "[encoded data removed]",
            "text/plain": [
              "<Figure size 432x288 with 1 Axes>"
            ]
          },
          "metadata": {
            "tags": [],
            "needs_background": "light"
          }
        }
      ]
    },
    {
      "cell_type": "code",
      "metadata": {
        "id": "QaQv3mxG8Mlb"
      },
      "source": [
        "plt.plot(K_list, time_list,  label='runtime')\n",
        "plt.legend()\n",
        "plt.xlabel('K value')\n",
        "plt.ylabel('Runtime (s)')\n",
        "plt.show()"
      ],
      "execution_count": null,
      "outputs": []
    },
    {
      "cell_type": "code",
      "metadata": {
        "id": "AtPyK30H8OPv"
      },
      "source": [
        "print(time_list)\n",
        "print(np.mean(err_valid, axis=1))"
      ],
      "execution_count": null,
      "outputs": []
    },
    {
      "cell_type": "markdown",
      "metadata": {
        "id": "KxmqbUzO5zjL"
      },
      "source": [
        "### Dataset C"
      ]
    },
    {
      "cell_type": "code",
      "metadata": {
        "id": "YPrxxRp_6UDy"
      },
      "source": [
        "from sklearn import datasets\n",
        "import numpy as np\n",
        "from sklearn.datasets import fetch_openml\n",
        "from sklearn.metrics import accuracy_score\n",
        "import datetime\n",
        "import matplotlib.pyplot as plt \n",
        "from sklearn.neighbors import KNeighborsClassifier\n",
        "dataset = fetch_openml(name='waveform-5000',version=1)\n",
        "#Classification for two classes and two features\n",
        "x_rest, y_rest = dataset['data'], dataset['target']\n",
        "#x2 = x2.astype(int)\n",
        "y_rest = y_rest.astype(int)"
      ],
      "execution_count": null,
      "outputs": []
    },
    {
      "cell_type": "code",
      "metadata": {
        "id": "Cc4ruHI76Zwp"
      },
      "source": [
        "num_folds = 5\n",
        "n_rest = len(y_rest)\n",
        "K_list = range(1,20)\n",
        "time_list = []\n",
        "err_valid = np.zeros((len(K_list), num_folds))\n",
        "err_train = np.zeros((len(K_list), num_folds))\n",
        "for i, K in enumerate(K_list):\n",
        "  for f, (tr, val) in enumerate(cross_validate(n_rest, num_folds)):\n",
        "    begin_time = datetime.datetime.now()\n",
        "    model = KNeighborsClassifier(n_neighbors=K)\n",
        "    model = model.fit(x_rest[tr], y_rest[tr])\n",
        "    y_pred = model.predict(x_rest[tr]).astype(int)\n",
        "    err_train[i, f] = model.score(x_rest[tr], y_rest[tr])\n",
        "    y_val_pre = model.predict(x_rest[val]).astype(np.int32)\n",
        "    err_valid[i, f] = model.score(x_rest[val], y_rest[val])\n",
        "  model = KNeighborsClassifier(n_neighbors=K)\n",
        "  model = model.fit(x_rest, y_rest)\n",
        "  time_list.append((datetime.datetime.now() - begin_time).total_seconds())\n",
        "\n",
        "plt.plot(K_list, np.mean(err_valid, axis=1),  label='validation')\n",
        "plt.plot(K_list, np.mean(err_train, axis=1),  label='train')\n",
        "plt.legend()\n",
        "plt.xlabel('K (number of neighbours)')\n",
        "plt.ylabel('Accuracy (%)')\n",
        "plt.show()"
      ],
      "execution_count": null,
      "outputs": []
    },
    {
      "cell_type": "code",
      "metadata": {
        "colab": {
          "base_uri": "https://localhost:8080/",
          "height": 279
        },
        "id": "-KZg2VDv7K5F",
        "outputId": "949616e5-36b0-4de3-f32a-1e3cf4b0a8e7"
      },
      "source": [
        "plt.plot(K_list, time_list,  label='runtime')\n",
        "plt.legend()\n",
        "plt.xlabel('K value')\n",
        "plt.ylabel('Runtime (s)')\n",
        "plt.show()"
      ],
      "execution_count": 199,
      "outputs": [
        {
          "output_type": "display_data",
          "data": {
            "image/png": "[encoded data removed]",
            "text/plain": [
              "<Figure size 432x288 with 1 Axes>"
            ]
          },
          "metadata": {
            "tags": [],
            "needs_background": "light"
          }
        }
      ]
    },
    {
      "cell_type": "code",
      "metadata": {
        "colab": {
          "base_uri": "https://localhost:8080/"
        },
        "id": "woDMRXDp7Oi_",
        "outputId": "b4a2e9bb-1d17-48e0-b2cb-c149b4a0cd84"
      },
      "source": [
        "print(time_list)\n",
        "print(np.mean(err_valid, axis=1))"
      ],
      "execution_count": 200,
      "outputs": [
        {
          "output_type": "stream",
          "text": [
            "[1.927053, 5.793949, 6.173889, 6.39213, 6.5341, 6.614601, 6.758075, 6.858061, 6.933681, 7.006965, 7.065221, 7.127785, 7.140039, 7.203506, 7.224373, 7.267125, 7.31886, 7.346357, 7.342234]\n",
            "[0.98434164 0.97989324 0.98291815 0.98131673 0.98291815 0.98309609\n",
            " 0.98345196 0.9797153  0.98060498 0.98024911 0.98078292 0.9797153\n",
            " 0.98060498 0.97935943 0.98024911 0.97864769 0.97900356 0.97811388\n",
            " 0.97704626]\n"
          ],
          "name": "stdout"
        }
      ]
    }
  ]
}